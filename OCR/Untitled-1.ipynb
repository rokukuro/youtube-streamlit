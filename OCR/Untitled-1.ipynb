{
 "cells": [
  {
   "cell_type": "code",
   "execution_count": 9,
   "metadata": {},
   "outputs": [
    {
     "name": "stdout",
     "output_type": "stream",
     "text": [
      "kintoneアプリストアの説明として、正しいものをすべて選びなさい。\n",
      "A) アブリを有償で著入できる。\n",
      "B) サンプルデータがあるアプリでは、サンプブルデータを含めるかを選択できる。\n",
      "C) ルックアップや関連レコード一覧やアクションなど、アブリ間連携が設定されたアプリバックを\n",
      "追加すると、 複数のアプリをまとめて一度に追加できる。\n",
      "D) JavaScriptでカスタマイズされたサンブルアプリを追加できる。\n",
      "アプリの作成についての説明として、斉っているものをすべて選びなさい。\n",
      "A) Excelファイルを読み込んでアプリを作成できる。\n",
      "B) ゲストスペースでアブリを作成するときに、ほかのスペースで作成したアプリ を再利用できる。\n",
      "で) 項目をドラッグ&ドロップしてアプリをはじめから作成できる。\n",
      "D) アプリストアから追加したアプリは、修正できない。\n",
      "アプリの「はじめから作成] の説明として、訓っているものを1 つ選びなさい。\n",
      "A) アプリを「はじめから作成した麻に、一覧を作成しないと「(すべて)」の一覧が表示される。\n",
      "B) アプリを「はじめから作成」するときは、アプリ名が既定で「新しいアプリ」 となっているので、\n",
      "変更する。\n",
      "でC) アプリを「はじめから作成」 した際に、アプリアイコンはアブプリの設定半面を剛いてあとから変\n",
      "更できる。\n",
      "D) アプリを「はじめから作成]するときは、[フォーム] タブに最低1つはフィールドを追加しなけ\n",
      "ればならない。\n",
      "アプリを作成するために読み込むExcelファイルの注意点として、正しいものをすべて選びなさい。\n",
      "A) モルの結合があれば、 解除する。\n",
      "B) ファイルがパスワードで保護きれていれば、 解除する。\n",
      "C) 非表示のモルは読み込まれない。\n",
      "D) 最大100MIBのファイルを読み込める。\n",
      "アプリのテンプレートについての説明として、計っているものをすべて選びなさい。\n",
      "A) アプリの作成権展があれば、テンプレートファイルを読み込んで、アプリを作成できる。\n",
      "B) アブリの作成権限があれば、登録済みあのテンプレートからアプリを作成できる。\n",
      "でC) アブリの管理属良があれば、アプリの設定画面からアプリをテンプレートとしてダウンロードで|\n",
      "きる。\n",
      "D) アブリの管理権限があれば、アプリをテンプレートとして登録できる。\n"
     ]
    }
   ],
   "source": [
    "import pyocr\n",
    "from PIL import Image,ImageGrab\n",
    "import pyperclip as pc\n",
    "\n",
    "pyocr.tesseract.TESSERACT_CMD = r\"C:\\Users\\ken-ichi\\AppData\\Local\\Tesseract-OCR\\tesseract.exe\"\n",
    "\n",
    "tools = pyocr.get_available_tools()\n",
    "tool = tools[0]\n",
    "\n",
    "#OCR対象の画像ファイルを取り込む1.png\n",
    "#img = ImageGrab.grabclipboard()\n",
    "img = Image.open(r\"D:\\MyPython\\programs\\OCR\\image\\1.png\")\n",
    "\n",
    "builder = pyocr.builders.TextBuilder(tesseract_layout=6)\n",
    "text = tool.image_to_string(img, lang=\"jpn\", builder=builder)\n",
    "\n",
    "print(text)\n",
    "pc.copy(text)"
   ]
  }
 ],
 "metadata": {
  "kernelspec": {
   "display_name": "Python 3.9.12 ('base')",
   "language": "python",
   "name": "python3"
  },
  "language_info": {
   "codemirror_mode": {
    "name": "ipython",
    "version": 3
   },
   "file_extension": ".py",
   "mimetype": "text/x-python",
   "name": "python",
   "nbconvert_exporter": "python",
   "pygments_lexer": "ipython3",
   "version": "3.9.12"
  },
  "orig_nbformat": 4,
  "vscode": {
   "interpreter": {
    "hash": "52165990c2c924c63fee78ad102ad7e885cc5aab011cad54d430bd35c7d218ee"
   }
  }
 },
 "nbformat": 4,
 "nbformat_minor": 2
}
