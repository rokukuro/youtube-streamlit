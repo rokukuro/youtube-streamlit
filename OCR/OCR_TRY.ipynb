{
 "cells": [
  {
   "cell_type": "code",
   "execution_count": 1,
   "metadata": {},
   "outputs": [
    {
     "ename": "ModuleNotFoundError",
     "evalue": "No module named 'cv2'",
     "output_type": "error",
     "traceback": [
      "\u001b[1;31m---------------------------------------------------------------------------\u001b[0m",
      "\u001b[1;31mModuleNotFoundError\u001b[0m                       Traceback (most recent call last)",
      "\u001b[1;32mセル1 を d:\\MyPython\\programs\\OCR\\OCR_TRY.ipynb\u001b[0m in \u001b[0;36m<cell line: 4>\u001b[1;34m()\u001b[0m\n\u001b[0;32m      <a href='vscode-notebook-cell:/d%3A/MyPython/programs/OCR/OCR_TRY.ipynb#W1sZmlsZQ%3D%3D?line=1'>2</a>\u001b[0m \u001b[39mfrom\u001b[39;00m \u001b[39mPIL\u001b[39;00m \u001b[39mimport\u001b[39;00m Image,ImageGrab\n\u001b[0;32m      <a href='vscode-notebook-cell:/d%3A/MyPython/programs/OCR/OCR_TRY.ipynb#W1sZmlsZQ%3D%3D?line=2'>3</a>\u001b[0m \u001b[39mimport\u001b[39;00m \u001b[39mpyperclip\u001b[39;00m \u001b[39mas\u001b[39;00m \u001b[39mpc\u001b[39;00m\n\u001b[1;32m----> <a href='vscode-notebook-cell:/d%3A/MyPython/programs/OCR/OCR_TRY.ipynb#W1sZmlsZQ%3D%3D?line=3'>4</a>\u001b[0m \u001b[39mimport\u001b[39;00m \u001b[39mcv2\u001b[39;00m\n\u001b[0;32m      <a href='vscode-notebook-cell:/d%3A/MyPython/programs/OCR/OCR_TRY.ipynb#W1sZmlsZQ%3D%3D?line=4'>5</a>\u001b[0m \u001b[39mimport\u001b[39;00m \u001b[39mnumpy\u001b[39;00m \u001b[39mas\u001b[39;00m \u001b[39mnp\u001b[39;00m\n\u001b[0;32m      <a href='vscode-notebook-cell:/d%3A/MyPython/programs/OCR/OCR_TRY.ipynb#W1sZmlsZQ%3D%3D?line=5'>6</a>\u001b[0m \u001b[39mimport\u001b[39;00m \u001b[39mglob\u001b[39;00m\n",
      "\u001b[1;31mModuleNotFoundError\u001b[0m: No module named 'cv2'"
     ]
    }
   ],
   "source": [
    "import pyocr\n",
    "from PIL import Image,ImageGrab\n",
    "import pyperclip as pc\n",
    "import cv2\n",
    "import numpy as np\n",
    "import glob\n",
    "files = glob.glob(\"D:\\MyPython\\programs\\OCR\\image/*.png\")\n",
    "\n",
    "\n",
    "pyocr.tesseract.TESSERACT_CMD = r\"C:\\Users\\ken-ichi\\AppData\\Local\\Tesseract-OCR\\tesseract.exe\"\n",
    "\n",
    "tools = pyocr.get_available_tools()\n",
    "tool = tools[0]\n",
    "\n",
    "#OCR対象の画像ファイルを取り込む1.png\n",
    "#img = ImageGrab.grabclipboard()\n",
    "for f in files:\n",
    "  img = cv2.imread(f, cv2.IMREAD_GRAYSCALE)\n",
    "  builder = pyocr.builders.TextBuilder(tesseract_layout=6)\n",
    "  text = tool.image_to_string(img, lang=\"jpn\", builder=builder)\n",
    "  print(text)\n",
    "  pc.copy(text)"
   ]
  }
 ],
 "metadata": {
  "kernelspec": {
   "display_name": "Python 3.9.12 ('base')",
   "language": "python",
   "name": "python3"
  },
  "language_info": {
   "codemirror_mode": {
    "name": "ipython",
    "version": 3
   },
   "file_extension": ".py",
   "mimetype": "text/x-python",
   "name": "python",
   "nbconvert_exporter": "python",
   "pygments_lexer": "ipython3",
   "version": "3.9.12"
  },
  "orig_nbformat": 4,
  "vscode": {
   "interpreter": {
    "hash": "52165990c2c924c63fee78ad102ad7e885cc5aab011cad54d430bd35c7d218ee"
   }
  }
 },
 "nbformat": 4,
 "nbformat_minor": 2
}
