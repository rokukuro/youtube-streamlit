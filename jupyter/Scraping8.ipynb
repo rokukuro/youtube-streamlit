{
 "cells": [
  {
   "cell_type": "code",
   "execution_count": 16,
   "metadata": {},
   "outputs": [],
   "source": [
    "import requests\n",
    "from bs4 import BeautifulSoup\n",
    "from time import sleep"
   ]
  },
  {
   "cell_type": "code",
   "execution_count": 17,
   "metadata": {},
   "outputs": [],
   "source": [
    "# 変数urlにスーモ公式ページURLを入れる\n",
    "url = 'https://suumo.jp/jj/chintai/ichiran/FR301FC001/?ar=050&bs=040&ta=23&sc=23202&cb=0.0&ct=9999999&et=9999999&cn=9999999&mb=0&mt=9999999&shkr1=03&shkr2=03&shkr3=03&shkr4=03&fw2=&srch_navi={}'\n",
    "\n",
    "#変数 d_listに空のリストを作成する\n",
    "d_list = []"
   ]
  },
  {
   "cell_type": "code",
   "execution_count": 18,
   "metadata": {},
   "outputs": [
    {
     "name": "stdout",
     "output_type": "stream",
     "text": [
      "d_listの大きさは、 0\n",
      "https://suumo.jp/jj/chintai/ichiran/FR301FC001/?ar=050&bs=040&ta=23&sc=23202&cb=0.0&ct=9999999&et=9999999&cn=9999999&mb=0&mt=9999999&shkr1=03&shkr2=03&shkr3=03&shkr4=03&fw2=&srch_navi=1\n",
      "d_listの大きさは、 61\n",
      "https://suumo.jp/jj/chintai/ichiran/FR301FC001/?ar=050&bs=040&ta=23&sc=23202&cb=0.0&ct=9999999&et=9999999&cn=9999999&mb=0&mt=9999999&shkr1=03&shkr2=03&shkr3=03&shkr4=03&fw2=&srch_navi=2\n",
      "d_listの大きさは、 122\n",
      "https://suumo.jp/jj/chintai/ichiran/FR301FC001/?ar=050&bs=040&ta=23&sc=23202&cb=0.0&ct=9999999&et=9999999&cn=9999999&mb=0&mt=9999999&shkr1=03&shkr2=03&shkr3=03&shkr4=03&fw2=&srch_navi=3\n"
     ]
    }
   ],
   "source": [
    "#1~3をループ\n",
    "for i in range(1,4):\n",
    "  print(\"d_listの大きさは、\",len(d_list))\n",
    "  \n",
    "  #アクセスするためのURLをtarget_urlへ入れる\n",
    "  target_url = url.format(i)\n",
    "  \n",
    "  print(target_url)\n",
    "  \n",
    "  #URLにアクセスした結果を変数rに入れる\n",
    "  r = requests.get(target_url)\n",
    "  \n",
    "  sleep(1)\n",
    "  \n",
    "  # BeautifulSoupでHTMLを解析\n",
    "  soup = BeautifulSoup(r.text)\n",
    "  \n",
    "  #cassetteitemクラスをもったdivタグを全て取得して、変数contentsに格納\n",
    "  contents = soup.find_all('div',class_=\"cassetteitem\")\n",
    "  \n",
    "  #各物件情報をfor ループで取得する\n",
    "  for content in contents:\n",
    "    \n",
    "    #物件・建物情報を変数detailに格納する\n",
    "    detail = content.find('div',class_=\"cassetteitem-detail\")\n",
    "    \n",
    "    #各部屋の情報を変数tableに格納する\n",
    "    table = content.find('table',class_=\"cassetteitem_other\")\n",
    "    \n",
    "    #変数titleに物件名を格納する\n",
    "    title = detail.find('div',class_='cassetteitem_content-title').text\n",
    "    \n",
    "    #変数addressに住所を格納する\n",
    "    address = detail.find('li',class_='cassetteitem_detail-col1').text\n",
    "    \n",
    "    #変数accessにアクセス情報を格納する\n",
    "    access = detail.find('li',class_='cassetteitem_detail-col2').text\n",
    "    \n",
    "    #変数ageに築年数を格納する\n",
    "    age = detail.find('li',class_='cassetteitem_detail-col3').text\n",
    "    \n",
    "    #変数tableから全てのtrタグを取得して、変数tr_tagsに格納\n",
    "    tr_tags = table.find_all('tr',class_='js-cassette_link')\n",
    "    \n",
    "    #各部屋情報をforループで取得する\n",
    "    for tr_tag in tr_tags:\n",
    "      \n",
    "      #変数floorsに階数を格納する\n",
    "      floor,price,first_fee,capa = tr_tag.find_all('td')[2:6]\n",
    "      \n",
    "      #さらに細かい情報を取得する\n",
    "      #賃料と管理費を格納\n",
    "      fee,management_fee = price.find_all('li')\n",
    "      \n",
    "      #敷金、礼金を格納\n",
    "      deposit,gratuity = first_fee.find_all('li')\n",
    "      \n",
    "      #間取りと面積を格納\n",
    "      madori,menseki = capa.find_all('li')\n",
    "      \n",
    "      #辞書でこれまでに取得したデータを格納\n",
    "      d = {\n",
    "        'title':title,\n",
    "        'address':address,\n",
    "        'age':age,\n",
    "        'floor':floor.text,\n",
    "        'fee':fee.text,\n",
    "        'management_fee':management_fee.text,\n",
    "        'deposit':deposit.text,\n",
    "        'gratuity':gratuity.text,\n",
    "        'madori':madori.text,\n",
    "        'menseki':menseki.text\n",
    "      }\n",
    "      \n",
    "      #取得した辞書をd_listに格納する\n",
    "      d_list.append(d)"
   ]
  },
  {
   "cell_type": "code",
   "execution_count": 19,
   "metadata": {},
   "outputs": [
    {
     "data": {
      "text/plain": [
       "{'title': '愛知環状鉄道 中岡崎駅 6階建 築9年',\n",
       " 'address': '愛知県岡崎市板屋町',\n",
       " 'age': '\\n築9年\\n6階建\\n',\n",
       " 'floor': '\\r\\n\\t\\t\\t\\t\\t\\t\\t\\t\\t\\t\\t4階',\n",
       " 'fee': '12.2万円',\n",
       " 'management_fee': '8000円',\n",
       " 'deposit': '12.2万円',\n",
       " 'gratuity': '12.2万円',\n",
       " 'madori': '2LDK',\n",
       " 'menseki': '65m2'}"
      ]
     },
     "execution_count": 19,
     "metadata": {},
     "output_type": "execute_result"
    }
   ],
   "source": [
    "d_list[-1]"
   ]
  },
  {
   "cell_type": "code",
   "execution_count": 6,
   "metadata": {},
   "outputs": [],
   "source": [
    "from pprint import pprint"
   ]
  },
  {
   "cell_type": "code",
   "execution_count": 29,
   "metadata": {},
   "outputs": [
    {
     "name": "stdout",
     "output_type": "stream",
     "text": [
      "{'address': '愛知県岡崎市中島東町３',\n",
      " 'age': '\\n築15年\\n2階建\\n',\n",
      " 'deposit': '-',\n",
      " 'fee': '6.2万円',\n",
      " 'floor': '\\r\\n\\t\\t\\t\\t\\t\\t\\t\\t\\t\\t\\t2階',\n",
      " 'gratuity': '6.2万円',\n",
      " 'madori': '2LDK',\n",
      " 'management_fee': '2000円',\n",
      " 'menseki': '61.06m2',\n",
      " 'title': 'グリーン・アップル'}\n",
      "\n",
      "{'address': '愛知県岡崎市六名１',\n",
      " 'age': '\\n築14年\\n2階建\\n',\n",
      " 'deposit': '-',\n",
      " 'fee': '4.9万円',\n",
      " 'floor': '\\r\\n\\t\\t\\t\\t\\t\\t\\t\\t\\t\\t\\t1階',\n",
      " 'gratuity': '-',\n",
      " 'madori': '1K',\n",
      " 'management_fee': '3000円',\n",
      " 'menseki': '23.36m2',\n",
      " 'title': 'Ｃｏｍｆｏｒｔ\\u3000Ｐｌａｃｅ'}\n"
     ]
    }
   ],
   "source": [
    "pprint(d_list[0])\n",
    "print()\n",
    "pprint(d_list[1])"
   ]
  },
  {
   "cell_type": "code",
   "execution_count": null,
   "metadata": {},
   "outputs": [],
   "source": []
  }
 ],
 "metadata": {
  "kernelspec": {
   "display_name": "Python 3.9.12 ('base')",
   "language": "python",
   "name": "python3"
  },
  "language_info": {
   "codemirror_mode": {
    "name": "ipython",
    "version": 3
   },
   "file_extension": ".py",
   "mimetype": "text/x-python",
   "name": "python",
   "nbconvert_exporter": "python",
   "pygments_lexer": "ipython3",
   "version": "3.9.12"
  },
  "orig_nbformat": 4,
  "vscode": {
   "interpreter": {
    "hash": "52165990c2c924c63fee78ad102ad7e885cc5aab011cad54d430bd35c7d218ee"
   }
  }
 },
 "nbformat": 4,
 "nbformat_minor": 2
}
