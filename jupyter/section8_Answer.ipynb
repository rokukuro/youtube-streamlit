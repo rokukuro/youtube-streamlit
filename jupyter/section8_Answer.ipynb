{
 "cells": [
  {
   "cell_type": "markdown",
   "metadata": {},
   "source": [
    "# 【第8回】複数ページからの情報取得をマスターしよう！\n",
    "\n",
    "今回の講義では、複数ページの情報取得をおこなっていきたいと思います。\n",
    "\n",
    "前回の第7回目では、SUUMOのホームページで1ページ目の情報をすべて取得しました。\n",
    "\n",
    "\n",
    "https://suumo.jp/chintai/tokyo/sc_shinjuku/\n",
    "\n",
    "<br>\n",
    "\n",
    "今回は、その続きということになります。\n",
    "\n",
    "複数ページに対してスクレイピングできるようになると、Webページ全体から情報取得できるようになります。\n",
    "\n",
    "<br>\n",
    "\n",
    "さらに、この動画まで見ていくと、複数ページから情報取得するときの注意点まで分かるようになります。\n",
    "\n",
    "「スクレイピングの基本スキルはしっかり身についている」といえるレベルになれますので、一緒に頑張っていきましょう！\n",
    "\n",
    "<br>\n",
    "\n",
    "*※動画の感想を、僕のTwitterにメンションしてツイートしていただけると嬉しいです（ ;  ; ）！*\n",
    "\n",
    "Twitter : [@hayatasuuu](https://twitter.com/hayatasuuu)"
   ]
  },
  {
   "cell_type": "markdown",
   "metadata": {},
   "source": [
    "# ライブラリのインポート\n",
    "\n",
    "今回使うライブラリをインポートしていきます。\n",
    "\n",
    "今までは`Requests`と`BeautifulSoup`しかインポートしていませんでしたが、今回は新しく`time`から`sleep`をインポートしたいと思います。"
   ]
  },
  {
   "cell_type": "code",
   "execution_count": null,
   "metadata": {},
   "outputs": [],
   "source": [
    "from time import sleep\n",
    "\n",
    "from bs4 import BeautifulSoup\n",
    "import requests"
   ]
  },
  {
   "cell_type": "markdown",
   "metadata": {},
   "source": [
    "`sleep()`は名前からも想像できるかもしれませんが、Pythonの実行を()の中に書いた秒数だけ休止できます。\n",
    "\n",
    "例えば、`sleep(1)`のように書いてあったら「1秒間だけPythonの実行を休止する」という意味になります。\n",
    "\n",
    "「これをどこで使うのか」に関しては、後ほどのコード作成で見ていきましょう！"
   ]
  },
  {
   "cell_type": "markdown",
   "metadata": {},
   "source": [
    "# 1ページ取得するコードを確認\n",
    "\n",
    "複数ページに対してスクレイピングするには、今まで作成しておいた1ページ目のコードが基になります。\n",
    "\n",
    "なので今一度、1ページ目を取得したときに使ったプログラムを確認していきましょう。\n",
    "\n",
    "<br>\n",
    "\n",
    "全体の流れは、以下のようになっています。\n",
    "\n",
    "1. アクセスするURLを設定する\n",
    "2. `Requests`を使って1で設定したURLにアクセスする\n",
    "3. 取得したHTMLを`BeautifulSoup`で解析する\n",
    "4. すべての物件情報を取得する(20件)\n",
    "5. 各物件情報から「物件の詳細」と「各部屋情報」を取得する\n",
    "6. それぞれを解析する\n",
    "7. 解析した結果を辞書に格納する"
   ]
  },
  {
   "cell_type": "code",
   "execution_count": null,
   "metadata": {},
   "outputs": [],
   "source": [
    "# 1. アクセスするURLを設定する\n",
    "url = 'https://suumo.jp/chintai/tokyo/sc_shinjuku/?page={}'\n",
    "\n",
    "target_url = url.format(1)\n",
    "\n",
    "print(target_url)"
   ]
  },
  {
   "cell_type": "code",
   "execution_count": null,
   "metadata": {},
   "outputs": [],
   "source": [
    "# 2. `Requests`を使って1で設定したURLにアクセスする\n",
    "r = requests.get(target_url)\n",
    "\n",
    "# 3. 取得したHTMLを`BeautifulSoup`で解析する\n",
    "soup = BeautifulSoup(r.text)"
   ]
  },
  {
   "cell_type": "code",
   "execution_count": null,
   "metadata": {},
   "outputs": [],
   "source": [
    "d_list = []\n",
    "\n",
    "# 4. すべての物件情報を取得する(20件)\n",
    "contents = soup.find_all('div', class_='cassetteitem')\n",
    "\n",
    "\n",
    "# 5. 各物件情報から「物件の詳細」と「各部屋情報」を取得する\n",
    "for content in contents:\n",
    "    # 6. それぞれを解析する\n",
    "    detail = content.find('div', class_='cassetteitem_content')\n",
    "    table = content.find('table', class_='cassetteitem_other')\n",
    "    \n",
    "    title = detail.find('div', class_='cassetteitem_content-title').text\n",
    "    address = detail.find('li', class_='cassetteitem_detail-col1').text\n",
    "    access = detail.find('li', class_='cassetteitem_detail-col2').text\n",
    "    age = detail.find('li', class_='cassetteitem_detail-col3').text\n",
    "\n",
    "    tr_tags = table.find_all('tr', class_='js-cassette_link')\n",
    "    \n",
    "\n",
    "    for tr_tag in tr_tags:        \n",
    "        \n",
    "        floor, price, first_fee, capacity = tr_tag.find_all('td')[2:6]\n",
    "        \n",
    "        fee, management_fee = price.find_all('li')\n",
    "        deposit, gratuity = first_fee.find_all('li')\n",
    "        madori, menseki = capacity.find_all('li')\n",
    "\n",
    "\n",
    "        # 7. 解析した結果を辞書に格納する\n",
    "        d = {\n",
    "            'title': title,\n",
    "            'address': address,\n",
    "            'access': access,\n",
    "            'age': age,\n",
    "            'floor': floor.text,\n",
    "            'fee': fee.text,\n",
    "            'management_fee': management_fee.text,\n",
    "            'deposit': deposit.text,\n",
    "            'gratuity': gratuity.text,\n",
    "            'madori': madori.text,\n",
    "            'menseki': menseki.text\n",
    "        }\n",
    "        \n",
    "        d_list.append(d)"
   ]
  },
  {
   "cell_type": "markdown",
   "metadata": {},
   "source": [
    "この流れを確認すると、複数ページから情報抽出するためには「1. アクセスするURLを設定する」で書いておいた以下の部分：\n",
    "\n",
    "```\n",
    "url = 'https://suumo.jp/chintai/tokyo/sc_shinjuku/?page={}'\n",
    "\n",
    "target_url = url.format(1)\n",
    "```\n",
    "\n",
    "を変更するだけで良いことが分かります。\n",
    "\n",
    "<br>\n",
    "\n",
    "今回は、最初にベースになるURLを設定し、その後`format`を使ってアクセスするページを指定する形にしておきました。\n",
    "\n",
    "なので追加でforループを使って、`format()`のカッコの中身を変えることで、アクセスしたいURLを変更すればコードの編集は完了します。"
   ]
  },
  {
   "cell_type": "markdown",
   "metadata": {},
   "source": [
    "# 複数ページから情報取得する\n",
    "\n",
    "というわけで、元になる変数`url`から、アクセスするURL(=`target_url`)を設定する間に、forループを使ってあげましょう。\n",
    "\n",
    "まずはループと関係ない部分だけ書いておきたいと思います。"
   ]
  },
  {
   "cell_type": "code",
   "execution_count": null,
   "metadata": {},
   "outputs": [],
   "source": [
    "# 変数urlにSUUMOホームページのURLを格納する\n",
    "url = 'https://suumo.jp/chintai/tokyo/sc_shinjuku/?page={}'\n",
    "\n",
    "# 変数d_listに空のリストを作成する\n",
    "d_list = []"
   ]
  },
  {
   "cell_type": "markdown",
   "metadata": {},
   "source": [
    "あとはループを使って、複数ページから情報を取得していきましょう。\n",
    "\n",
    "今回は、最初の3ページから情報を取得していきたいと思いますので、`for i in range(1, 4)`のように書いてあげればOKですね！\n",
    "\n",
    "<br>\n",
    "\n",
    "試しに、URLの変更部分だけ確認しておきましょう。"
   ]
  },
  {
   "cell_type": "code",
   "execution_count": null,
   "metadata": {},
   "outputs": [],
   "source": [
    "# 1〜3をループする\n",
    "for i in range(1, 4):\n",
    "    # 変数target_urlに、アクセス先のURLを格納する\n",
    "    target_url = url.format(i)\n",
    "\n",
    "    # print()してtarget_urlを確認する\n",
    "    print(target_url)"
   ]
  },
  {
   "cell_type": "markdown",
   "metadata": {},
   "source": [
    "このような出力結果になりました。\n",
    "\n",
    "それぞれのURLを確認してみると、しっかりSUUMOのページにアクセスできるかと思います。\n",
    "\n",
    "<br>\n",
    "\n",
    "それでは下準備ができましたので、あとは今まで使っていたコードを、`target_url`の下に貼り付けてあげましょう。\n",
    "\n",
    "コピペが完了したら、あとは実行すればOK...と言いたいところですが、実はまだやるべきことがあります。\n",
    "\n",
    "それは、すでにインポートしておいた`sleep()`の利用です。`sleep(1)`のように書くことで「1秒間だけPythonの実行を休止する」という処理ができました。\n",
    "\n",
    "<br>\n",
    "\n",
    "そして、これが複数ページに対してスクレイピングするときの注意点になるのですが、**それぞれのリクエスト間に、数秒のsleep()を挟んであげる**必要があります。\n",
    "\n",
    "なぜ`sleep()`を使ってPythonの動作を少し止めるのか。それは、第1回目の講義でもお伝えしたように、相手のサーバーに負荷をかけないためです。\n",
    "\n",
    "<br>\n",
    "\n",
    "というのも、Pythonでプログラムを実行すると、ほぼ一瞬で処理が完了してしまいます。\n",
    "\n",
    "試しに1〜10を出力するプログラムを実行してみましょう。"
   ]
  },
  {
   "cell_type": "code",
   "execution_count": null,
   "metadata": {},
   "outputs": [],
   "source": [
    "%%time\n",
    "for i in range(1, 11):\n",
    "    print(i)"
   ]
  },
  {
   "cell_type": "markdown",
   "metadata": {},
   "source": [
    "`%%time`をつけて時間も測定して実行すると、Wall timeで〇〇µsと表示されるはずです。\n",
    "\n",
    "「µs = 100万分の1秒」なので、非常に高速な処理をおこなっていることが分かりますね。\n",
    "\n",
    "<br>\n",
    "\n",
    "この高速な処理をWebサイトに対しておこなってしまうと...、明らかに相手のサーバーに負荷をかけてしまいます。\n",
    "\n",
    "なので、一回ごとのリクエスト後に、`sleep()`を挟んであげることで、相手のサーバーに負荷をかけないようにしてスクレイピングしていく必要があります。\n",
    "\n",
    "<br>\n",
    "\n",
    "リクエスト後に`sleep()`を挟まないと「サイトが攻撃されている」と思われかねないので注意しておきましょう。\n",
    "\n",
    "それでは、以上の点も踏まえて、コードの作成をしていきます。"
   ]
  },
  {
   "cell_type": "code",
   "execution_count": null,
   "metadata": {},
   "outputs": [],
   "source": [
    "# アクセスするためのURLをtarget_urlに格納する\n",
    "for i in range(1, 4):\n",
    "    print('d_listの大きさ：', len(d_list))\n",
    "    target_url = url.format(i)\n",
    "\n",
    "    # print()してtarget_urlを確認する\n",
    "    print(target_url)\n",
    "\n",
    "    # target_urlへのアクセス結果を、変数rに格納\n",
    "    r = requests.get(target_url)\n",
    "    \n",
    "    sleep(1)\n",
    "\n",
    "    # 取得結果を解析してsoupに格納\n",
    "    soup = BeautifulSoup(r.text)\n",
    "    \n",
    "    # すべての物件情報(20件)を取得する\n",
    "    contents = soup.find_all('div', class_='cassetteitem')\n",
    "\n",
    "    # 各物件情報をforループで取得する\n",
    "    for content in contents:\n",
    "        # 物件情報と部屋情報を取得しておく\n",
    "        detail = content.find('div', class_='cassetteitem_content')\n",
    "        table = content.find('table', class_='cassetteitem_other')\n",
    "\n",
    "        # 物件情報から必要な情報を取得する\n",
    "        title = detail.find('div', class_='cassetteitem_content-title').text\n",
    "        address = detail.find('li', class_='cassetteitem_detail-col1').text\n",
    "        access = detail.find('li', class_='cassetteitem_detail-col2').text\n",
    "        age = detail.find('li', class_='cassetteitem_detail-col3').text\n",
    "\n",
    "        # 部屋情報のブロックから、各部屋情報を取得する\n",
    "        tr_tags = table.find_all('tr', class_='js-cassette_link')\n",
    "\n",
    "        # 各部屋情報をforループで取得する\n",
    "        for tr_tag in tr_tags:        \n",
    "\n",
    "            # 部屋情報の行から、欲しい情報を取得する\n",
    "            floor, price, first_fee, capacity = tr_tag.find_all('td')[2:6]\n",
    "\n",
    "            # さらに細かい情報を取得する\n",
    "            fee, management_fee = price.find_all('li')\n",
    "            deposit, gratuity = first_fee.find_all('li')\n",
    "            madori, menseki = capacity.find_all('li')\n",
    "\n",
    "            # 取得したすべての情報を辞書に格納する\n",
    "            d = {\n",
    "                'title': title,\n",
    "                'address': address,\n",
    "                'access': access,\n",
    "                'age': age,\n",
    "                'floor': floor.text,\n",
    "                'fee': fee.text,\n",
    "                'management_fee': management_fee.text,\n",
    "                'deposit': deposit.text,\n",
    "                'gratuity': gratuity.text,\n",
    "                'madori': madori.text,\n",
    "                'menseki': menseki.text\n",
    "            }\n",
    "\n",
    "            # 取得した辞書をd_listに格納する\n",
    "            d_list.append(d)"
   ]
  },
  {
   "cell_type": "markdown",
   "metadata": {},
   "source": [
    "作成したコードを実行すると、上記のような実行結果になるかと思います。\n",
    "\n",
    "今回は3ページ目まで取得するコードを書いているので、1番最後の要素は3ページ目の最後の物件情報になっているはずです。\n",
    "\n",
    "<br>\n",
    "\n",
    "というわけで、`d_list`の最後の要素を確認したのち、SUUMOのホームページに掲載されている3ページ目の最後の物件情報をチェックしてみましょう。"
   ]
  },
  {
   "cell_type": "code",
   "execution_count": null,
   "metadata": {},
   "outputs": [],
   "source": [
    "# d_listに格納されている最後のインデックスを確認する\n",
    "d_list[-1]"
   ]
  },
  {
   "cell_type": "markdown",
   "metadata": {},
   "source": [
    "*※ちなみに、最後のインデックスに該当する要素を指定するときは、`d_list[-1]`のように書くのがベストです。`d_list[len(d_list)]`のような書き方はあまり良くないので、これを機に直していきましょう!!*\n",
    "\n",
    "取得したリストと3ページ目に入っている最後の要素を確認してみると、ちゃんとスクレイピングできていることが分かりますね。\n",
    "\n",
    "<br>\n",
    "\n",
    "これで複数ページから情報取得できるようになりました！\n",
    "\n",
    "ここまで勉強したことを使えば、すでにスクレイピングの基礎知識はしっかり身に付いています(^ ^)！\n",
    "\n",
    "<br>\n",
    "\n",
    "あとは、スクレイピングで取得した結果をCSVファイルなど、いつでも確認できるようにしておくと良いですよね。\n",
    "\n",
    "なので、次回の講義ではスクレイピングで取得した結果を、CSVに保存する方法を紹介していきます。\n",
    "\n",
    "<br>\n",
    "\n",
    "いままで`[{辞書1}, {辞書2}, ..., {辞書N}]`のような形で、スクレイピングした結果を保管しておいた意義が、ようやく分かるようになります。\n",
    "\n",
    "`Requests`と`BeautifulSoup`編も残りわずかなので、最後まで頑張っていきましょう(｀・ω・´)！"
   ]
  },
  {
   "cell_type": "code",
   "execution_count": null,
   "metadata": {},
   "outputs": [],
   "source": []
  }
 ],
 "metadata": {
  "kernelspec": {
   "display_name": "Python 3",
   "language": "python",
   "name": "python3"
  },
  "language_info": {
   "codemirror_mode": {
    "name": "ipython",
    "version": 3
   },
   "file_extension": ".py",
   "mimetype": "text/x-python",
   "name": "python",
   "nbconvert_exporter": "python",
   "pygments_lexer": "ipython3",
   "version": "3.7.3"
  },
  "toc": {
   "base_numbering": 1,
   "nav_menu": {},
   "number_sections": true,
   "sideBar": true,
   "skip_h1_title": false,
   "title_cell": "Table of Contents",
   "title_sidebar": "Contents",
   "toc_cell": false,
   "toc_position": {
    "height": "calc(100% - 180px)",
    "left": "10px",
    "top": "150px",
    "width": "238.594px"
   },
   "toc_section_display": true,
   "toc_window_display": true
  }
 },
 "nbformat": 4,
 "nbformat_minor": 2
}
