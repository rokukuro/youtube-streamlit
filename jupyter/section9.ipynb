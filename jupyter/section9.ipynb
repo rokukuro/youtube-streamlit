{
 "cells": [
  {
   "cell_type": "markdown",
   "metadata": {},
   "source": [
    "# 【第9回】スクレイピング結果をCSVに保存しよう！\n",
    "\n",
    "\n",
    "今回の講義では、スクレイピング結果をCSVに保存する方法を習得していきたいと思います。\n",
    "\n",
    "前回の講義でSUUMOのホームページを使い、複数ページから情報取得する方法を学びました。\n",
    "\n",
    "<br>\n",
    "\n",
    "ただ、その取得結果を保存する方法は、まだ学習していませんでした。\n",
    "\n",
    "そもそもスクレイピングをする目的は、だいたい以下になります。\n",
    "\n",
    "- 手作業でおこなうと面倒なデータ取得をプログラムで自動化する\n",
    "- コピペするときのヒューマンエラーをなくす\n",
    "- 取得したデータを分析する\n",
    "\n",
    "上記のような目的があることを考えると、やはりスクレイピング結果は保存しておけることが重要です。\n",
    "\n",
    "<br>\n",
    "\n",
    "というわけで、スクレイピング結果をCSVに保存する方法を学んでいきましょう。\n",
    "\n",
    "この動画まで見ていただくと「スクレイピングにおける一連の流れをしっかりと習得できている」と言えます！\n",
    "\n",
    "一緒に頑張っていきましょう！\n",
    "\n",
    "<br>\n",
    "\n",
    "*※動画の感想を、僕のTwitterにメンションしてツイートしていただけると嬉しいです（ ;  ; ）！*\n",
    "\n",
    "Twitter : [@hayatasuuu](https://twitter.com/hayatasuuu)"
   ]
  },
  {
   "cell_type": "markdown",
   "metadata": {},
   "source": [
    "# ライブラリのインポート\n",
    "\n",
    "今回は、前回の講義で紹介した3つのライブラリに追加して、`Pandas`を使っていきたいと思います。"
   ]
  },
  {
   "cell_type": "code",
   "execution_count": 1,
   "metadata": {},
   "outputs": [],
   "source": [
    "# ライブラリのインポート\n"
   ]
  },
  {
   "cell_type": "markdown",
   "metadata": {},
   "source": [
    "`Pandas`はデータを扱いやすくするライブラリで、データサイエンスの場面で非常によく使われています。\n",
    "\n",
    "*※というか、データサイエンスで1番使うライブラリが`Pandas`です。サッカーでいうとリフティングみたいなイメージですかね。地味だけど、非常に重要なライブラリです！*\n",
    "\n",
    "<br>\n",
    "\n",
    "今回の動画では、CSVを作成するときに`Pandas`を使っていきます。\n",
    "\n",
    "本来はもっと色々なことができますが、それだけで1つの講義シリーズを作成できてしまうので、今回は使う部分だけ紹介していきますね！"
   ]
  },
  {
   "cell_type": "markdown",
   "metadata": {},
   "source": [
    "# 複数ページから情報取得する\n",
    "\n",
    "まずはCSVに保存するために、前回と同様にデータを取得していきましょう。\n",
    "\n",
    "以前に作成したコードを使って、今回は1ページ目と2ページ目だけスクレイピングしていきたいと思います。\n",
    "\n",
    "<br>\n",
    "\n",
    "今回は取得結果の保存が目的なので、以下のコードは実行するだけで良いですね！"
   ]
  },
  {
   "cell_type": "code",
   "execution_count": null,
   "metadata": {},
   "outputs": [],
   "source": [
    "# 変数urlにSUUMOホームページのURLを格納する\n",
    "url = 'https://suumo.jp/chintai/tokyo/sc_shinjuku/?page={}'\n",
    "\n",
    "# 変数d_listに空のリストを作成する\n",
    "d_list = []\n",
    "\n",
    "# アクセスするためのURLをtarget_urlに格納する\n",
    "for i in range(1, 3):\n",
    "    print('d_listの大きさ：', len(d_list))\n",
    "    target_url = url.format(i)\n",
    "\n",
    "    # print()してtarget_urlを確認する\n",
    "    print(target_url)\n",
    "\n",
    "    # target_urlへのアクセス結果を、変数rに格納\n",
    "    r = requests.get(target_url)\n",
    "    \n",
    "    sleep(1)\n",
    "\n",
    "    # 取得結果を解析してsoupに格納\n",
    "    soup = BeautifulSoup(r.text)\n",
    "    \n",
    "    # すべての物件情報(20件)を取得する\n",
    "    contents = soup.find_all('div', class_='cassetteitem')\n",
    "\n",
    "    # 各物件情報をforループで取得する\n",
    "    for content in contents:\n",
    "        # 物件情報と部屋情報を取得しておく\n",
    "        detail = content.find('div', class_='cassetteitem_content')\n",
    "        table = content.find('table', class_='cassetteitem_other')\n",
    "\n",
    "        # 物件情報から必要な情報を取得する\n",
    "        title = detail.find('div', class_='cassetteitem_content-title').text\n",
    "        address = detail.find('li', class_='cassetteitem_detail-col1').text\n",
    "        access = detail.find('li', class_='cassetteitem_detail-col2').text\n",
    "        age = detail.find('li', class_='cassetteitem_detail-col3').text\n",
    "\n",
    "        # 部屋情報のブロックから、各部屋情報を取得する\n",
    "        tr_tags = table.find_all('tr', class_='js-cassette_link')\n",
    "\n",
    "        # 各部屋情報をforループで取得する\n",
    "        for tr_tag in tr_tags:        \n",
    "\n",
    "            # 部屋情報の行から、欲しい情報を取得する\n",
    "            floor, price, first_fee, capacity = tr_tag.find_all('td')[2:6]\n",
    "\n",
    "            # さらに細かい情報を取得する\n",
    "            fee, management_fee = price.find_all('li')\n",
    "            deposit, gratuity = first_fee.find_all('li')\n",
    "            madori, menseki = capacity.find_all('li')\n",
    "\n",
    "            # 取得したすべての情報を辞書に格納する\n",
    "            d = {\n",
    "                'title': title,\n",
    "                'address': address,\n",
    "                'access': access,\n",
    "                'age': age,\n",
    "                'floor': floor.text,\n",
    "                'fee': fee.text,\n",
    "                'management_fee': management_fee.text,\n",
    "                'deposit': deposit.text,\n",
    "                'gratuity': gratuity.text,\n",
    "                'madori': madori.text,\n",
    "                'menseki': menseki.text\n",
    "            }\n",
    "\n",
    "            # 取得した辞書をd_listに格納する\n",
    "            d_list.append(d)"
   ]
  },
  {
   "cell_type": "markdown",
   "metadata": {},
   "source": [
    "これでスクレイピングが完了しました。\n",
    "\n",
    "今回取得したデータは「リストの中に辞書を入れる」という形にしていたので、スライスを使うことで、中身に入っているデータをいくつか確認できますね。"
   ]
  },
  {
   "cell_type": "code",
   "execution_count": 2,
   "metadata": {},
   "outputs": [],
   "source": [
    "# d_listの2番目まで中身を確認してみる\n"
   ]
  },
  {
   "cell_type": "markdown",
   "metadata": {},
   "source": [
    "というわけで、このリストを使ってCSVを作成していきましょう！"
   ]
  },
  {
   "cell_type": "markdown",
   "metadata": {},
   "source": [
    "# 取得したデータを保存する\n",
    "\n",
    "スクレイピングで取ってきたデータを保存するには、以下のステップが必要になります。\n",
    "\n",
    "- 取得したデータを表形式にする\n",
    "- 表形式の取得結果をCSVに出力する\n",
    "\n",
    "今までスクレイピング結果を`[{辞書1}, {辞書2}, ..., {辞書N}]`のように、少し面倒な形式で変数に格納していました。\n",
    "\n",
    "このような書き方をしていたのは、実は「**取得したデータの表変換をカンタンにする**」のが目的でした。\n",
    "\n",
    "<br>\n",
    "\n",
    "なので、取得したデータの保存はスムーズにやっていけます！"
   ]
  },
  {
   "cell_type": "markdown",
   "metadata": {},
   "source": [
    "## 取得したデータを表形式にする\n",
    "\n",
    "まずはCSVに保存するために、取得した結果を表形式にしたいと思います。\n",
    "\n",
    "そのためには、新しくインポートした`Pandas`を使って、**スクレイピング結果が入っているリストをデータフレームに変換**してあげます。\n",
    "\n",
    "<br>\n",
    "\n",
    "一般的に、Python上で一からデータフレームを作成するのは難しいのですが、リスト内に辞書を入れておくことで、簡単に表形式に変換できます。\n",
    "\n",
    "実際に変数`d_list`を使って、データフレームの作成をやっていきましょう。"
   ]
  },
  {
   "cell_type": "code",
   "execution_count": null,
   "metadata": {},
   "outputs": [],
   "source": [
    "# 変数d_listを使って、データフレームを作成する\n"
   ]
  },
  {
   "cell_type": "markdown",
   "metadata": {},
   "source": [
    "この一行だけで、リスト形式で格納していたデータを表形式に変換できました。\n",
    "\n",
    "実際に中身を確認していきましょう。\n",
    "\n",
    "<br>\n",
    "\n",
    "データフレームの中身を確認するとき、`df.head()`と書くことで先頭の5行を確認できます。"
   ]
  },
  {
   "cell_type": "code",
   "execution_count": null,
   "metadata": {},
   "outputs": [],
   "source": [
    "# データフレームの先頭5行を確認する\n"
   ]
  },
  {
   "cell_type": "markdown",
   "metadata": {},
   "source": [
    "このように、スクレイピングで取得した結果が、表形式になっていますね。\n",
    "\n",
    "表の大きさを確認するときは、`df.shape`を使ってあげます。"
   ]
  },
  {
   "cell_type": "code",
   "execution_count": null,
   "metadata": {},
   "outputs": [],
   "source": [
    "# dfの大きさを確認する\n"
   ]
  },
  {
   "cell_type": "markdown",
   "metadata": {},
   "source": [
    "そうすると、2つの数字がカッコに入った状態で取得できました。\n",
    "\n",
    "これは(行数, 列数)を表していて、要するに(縦の数, 横の数)ということになります。\n",
    "\n",
    "<br>\n",
    "\n",
    "今回でいうと、(取得した部屋の数, 取得した項目の数)ですね。\n",
    "\n",
    "<br>\n",
    "\n",
    "また、取得した物件数は1ページにつき20件なので、合計で40件になっているはずです。それも合わせて確認しておきましょう。\n",
    "\n",
    "物件名を重複無しで取得して、その大きさを取得するには以下のように書きます。"
   ]
  },
  {
   "cell_type": "code",
   "execution_count": null,
   "metadata": {},
   "outputs": [],
   "source": [
    "# 物件名の重複を削除して、その大きさを確認する\n"
   ]
  },
  {
   "cell_type": "markdown",
   "metadata": {},
   "source": [
    "そうすると\"40\"と表示されましたので、「今回取得した物件数は40件だった」ということが分かります。"
   ]
  },
  {
   "cell_type": "markdown",
   "metadata": {},
   "source": [
    "## 表形式の取得結果をCSVに出力する\n",
    "\n",
    "スクレイピングで取得した結果を表形式にできたので、あとはCSVに出力するだけです。\n",
    "\n",
    "データフレームをCSVに出力するには、以下のように`df.to_csv()`を使ってあげます。"
   ]
  },
  {
   "cell_type": "code",
   "execution_count": 3,
   "metadata": {},
   "outputs": [],
   "source": [
    "# to_csv()を使って、データフレームをCSV出力する\n"
   ]
  },
  {
   "cell_type": "markdown",
   "metadata": {},
   "source": [
    "これで、カッコの中に書いたファイル名でCSVを作成できました。\n",
    "\n",
    "CSVを作成するときは、他にも2つの引数を設定しています。それぞれの意味は、以下のとおりです。\n",
    "\n",
    "- index=None : インデックス部分をつけない\n",
    "- encoding=\"utf-8-sig\" : 文字コードを指定(→Excelで開いたときの文字化け対策です)\n",
    "\n",
    "基本的にCSV出力するときは、このような設定にしておくと良いと思います。\n",
    "\n",
    "*※時間があったら、それぞれの引数を設定しないCSVも出力してみると面白いと思います！*\n",
    "\n",
    "<br>\n",
    "\n",
    "少し余談ですが、会社の分析環境がLinux、使っているPCはWindowsが多いので、この文字化け問題は、わりとあるあるです！笑\n",
    "\n",
    "*※Linuxとかよく分からない場合は、分析している場所がタイで、実際にCSVを読みたい人は日本人と考えていただけると良いかと。日本人がタイ語を解読するのは難しいですよね！*\n",
    "\n",
    "この動画の第1回目で紹介したように「副業でスクレイピングをやってみたい」と思っているなら、文字コードは`utf-8-sig`にしてあげるのが優しいと思います！"
   ]
  },
  {
   "cell_type": "markdown",
   "metadata": {},
   "source": [
    "# まとめと余談\n",
    "\n",
    "というわけで、これでスクレイピング結果の保存もできるようになりました。\n",
    "\n",
    "第9回目までスクレイピングについて紹介してきましたが、いかがだったでしょうか？\n",
    "\n",
    "<br>\n",
    "\n",
    "ここまで学んでくださった皆さんであれば、あとは自分の好きなWebサイトで、スクレイピングできるようになっているはずです。\n",
    "\n",
    "ここまでで一旦の区切りになりますが、スクレイピング入門は後半戦も続いていきます。\n",
    "\n",
    "<br>\n",
    "\n",
    "後半戦では、JavaScriptが使われているサイトで、`Selenium`を使ってスクレイピングしていく方法を紹介していきます。\n",
    "\n",
    "具体的には「好きな女優の画像を自動で保存する」方法を紹介します。\n",
    "\n",
    "*※ちなみに、僕が好きな女優は岡本玲と小芝風花です！*\n",
    "\n",
    "<br>\n",
    "\n",
    "`Selenium`を学ぶと、ブラウザの自動操作ができるようになるので、スクレイピング以外にも色々なことができるようになります。\n",
    "\n",
    "<br>\n",
    "\n",
    "もっとPythonやスクレイピングを学んでみたい人は、一緒に頑張っていきましょう！\n",
    "\n"
   ]
  },
  {
   "cell_type": "markdown",
   "metadata": {},
   "source": [
    "## (余談)余計な文字を削除する方法\n",
    "\n",
    "こちらは動画内で解説しませんが「ぜひしておくと良いかな？」といった知識になります。\n",
    "\n",
    "今回取得したデータには、以下のように「余計な文字」が含まれていました。\n",
    "\n",
    "- \\r\n",
    "- \\n\n",
    "- \\t\n",
    "\n",
    "これらは、シンプルに必要ない文字になります。\n",
    "\n",
    "特に、`\\t`タブで空白をあける記号ですが、これはCSVをタブ区切りにしたとき、バグを発生させる原因になります。\n",
    "\n",
    "*※CSVはカンマ区切りがスタンダードですが、タブでも区切ることができます。*\n",
    "\n",
    "なので、これらの文字は削除してしまいましょう。\n",
    "\n",
    "<br>\n",
    "\n",
    "これには正規表現を使ってあげると良く、Pythonで正規表現を扱うには`re`(Regular Expressions)をインポートする必要があります。"
   ]
  },
  {
   "cell_type": "code",
   "execution_count": null,
   "metadata": {},
   "outputs": [],
   "source": [
    "# reをインポートする\n",
    "import re"
   ]
  },
  {
   "cell_type": "markdown",
   "metadata": {},
   "source": [
    "作成しておいた`df`に対して、`re.sub()`を使ってあげると、文字列の削除ができます。\n",
    "\n",
    "*※正確には、文字の置換をするメソッドです。*\n",
    "\n",
    "<br>\n",
    "\n",
    "まずは実際に`\\n`を削除するコードを見てみましょう。"
   ]
  },
  {
   "cell_type": "code",
   "execution_count": null,
   "metadata": {
    "scrolled": true
   },
   "outputs": [],
   "source": [
    "df2 = df.applymap(lambda x: re.sub('\\n', ' ', x))\n",
    "df2.head()"
   ]
  },
  {
   "cell_type": "markdown",
   "metadata": {},
   "source": [
    "取得してあるデータフレームから`\\n`を削除するには、このように書きます。\n",
    "\n",
    "かなり難しいですね...！\n",
    "\n",
    "- 正規表現`re`の取り扱い\n",
    "- ラムダ式の取り扱い\n",
    "- `Pandas`の取り扱い\n",
    "\n",
    "これらが分からないと、完全に意味不明になるはずです。なので今の段階では、「ああ、こうやって書くんだな〜」くらいの感覚で大丈夫です。\n",
    "\n",
    "一応、やっていることは、以下のようになっています。\n",
    "\n",
    "- df.applymap() : データフレーム全体に対して、カッコ内の関数を適応する\n",
    "- lambda x: re.sub('\\n', ' ', x)) : 引数で渡された`x`に対して、`\\n`を半角スペースに置換する\n",
    "\n",
    "まとめると、データフレーム全体に「`\\n`を半角スペースに置換する」という処理を当てているということになります。\n",
    "\n",
    "<br>\n",
    "\n",
    "追加で`\\r`と`\\t`も削除したい場合には、以下のように書けばOKですね！"
   ]
  },
  {
   "cell_type": "code",
   "execution_count": null,
   "metadata": {},
   "outputs": [],
   "source": [
    "df3 = df2.applymap(lambda x: re.sub('\\r', ' ', x))\n",
    "df3.applymap(lambda x: re.sub('\\t', ' ', x))"
   ]
  },
  {
   "cell_type": "markdown",
   "metadata": {},
   "source": [
    "これで余計な記号がなくなり、キレイなデータになりました。\n",
    "\n",
    "余談の知識でしたが、実践の場ではよく使うのでおさえておいて損はないですね。\n",
    "\n",
    "<br>\n",
    "\n",
    "「なんだか難しいけど、こうやってデータを扱えるようになっていきたいな〜」と思ったら、データサイエンスを勉強していくのが良いです。\n",
    "\n",
    "特に、Pythonを使ってデータを自由自在に扱っていくなら、`Pandas`を勉強すると良いですよ！\n",
    "\n",
    "*※もし需要があったら、僕の得意分野なので、動画で紹介していきたいと思います!!*\n",
    "\n",
    "<br>\n",
    "\n",
    "Pythonは勉強することが盛りだくさんです。焦らず、コツコツと頑張っていきましょう！\n",
    "\n",
    "もし良かったら、スクレイピング入門の後半戦も一緒に勉強していけると嬉しいです(｀・ω・´)！"
   ]
  },
  {
   "cell_type": "code",
   "execution_count": null,
   "metadata": {},
   "outputs": [],
   "source": []
  }
 ],
 "metadata": {
  "kernelspec": {
   "display_name": "Python 3",
   "language": "python",
   "name": "python3"
  },
  "language_info": {
   "codemirror_mode": {
    "name": "ipython",
    "version": 3
   },
   "file_extension": ".py",
   "mimetype": "text/x-python",
   "name": "python",
   "nbconvert_exporter": "python",
   "pygments_lexer": "ipython3",
   "version": "3.7.3"
  },
  "toc": {
   "base_numbering": 1,
   "nav_menu": {},
   "number_sections": true,
   "sideBar": true,
   "skip_h1_title": false,
   "title_cell": "Table of Contents",
   "title_sidebar": "Contents",
   "toc_cell": false,
   "toc_position": {
    "height": "calc(100% - 180px)",
    "left": "10px",
    "top": "150px",
    "width": "238.594px"
   },
   "toc_section_display": true,
   "toc_window_display": true
  }
 },
 "nbformat": 4,
 "nbformat_minor": 2
}
