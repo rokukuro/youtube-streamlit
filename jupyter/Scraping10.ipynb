{
 "cells": [
  {
   "cell_type": "code",
   "execution_count": 6,
   "metadata": {},
   "outputs": [],
   "source": [
    "from time import sleep\n",
    "from selenium import webdriver\n",
    "from selenium.webdriver.chrome.options import Options"
   ]
  },
  {
   "cell_type": "code",
   "execution_count": 10,
   "metadata": {},
   "outputs": [],
   "source": [
    "chrome_path = r'D:\\MyPython\\programs\\Selenium\\chromedriver.exe'"
   ]
  },
  {
   "cell_type": "code",
   "execution_count": 11,
   "metadata": {},
   "outputs": [],
   "source": [
    "options = Options()\n",
    "options.add_argument('--incognito')\n",
    "\n",
    "driver = webdriver.Chrome(executable_path=chrome_path,options=options)\n",
    "\n",
    "url = 'https://tech-diary.net'\n",
    "\n",
    "driver.get(url)\n",
    "\n",
    "sleep(5)\n",
    "\n",
    "driver.quit()"
   ]
  }
 ],
 "metadata": {
  "kernelspec": {
   "display_name": "Python 3.9.12 ('base')",
   "language": "python",
   "name": "python3"
  },
  "language_info": {
   "codemirror_mode": {
    "name": "ipython",
    "version": 3
   },
   "file_extension": ".py",
   "mimetype": "text/x-python",
   "name": "python",
   "nbconvert_exporter": "python",
   "pygments_lexer": "ipython3",
   "version": "3.9.12"
  },
  "orig_nbformat": 4,
  "vscode": {
   "interpreter": {
    "hash": "52165990c2c924c63fee78ad102ad7e885cc5aab011cad54d430bd35c7d218ee"
   }
  }
 },
 "nbformat": 4,
 "nbformat_minor": 2
}
