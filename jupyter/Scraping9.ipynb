{
 "cells": [
  {
   "cell_type": "code",
   "execution_count": 1,
   "metadata": {},
   "outputs": [],
   "source": [
    "from time import sleep\n",
    "from bs4 import BeautifulSoup\n",
    "import requests\n",
    "import pandas as pd"
   ]
  },
  {
   "cell_type": "code",
   "execution_count": 3,
   "metadata": {},
   "outputs": [
    {
     "name": "stdout",
     "output_type": "stream",
     "text": [
      "d_listの大きさは、 0\n",
      "https://suumo.jp/jj/chintai/ichiran/FR301FC001/?ar=030&bs=040&ta=13&sc=13104&cb=0.0&ct=9999999&et=9999999&cn=9999999&mb=0&mt=9999999&shkr1=03&shkr2=03&shkr3=03&shkr4=03&fw2=&srch_navi=1\n",
      "d_listの大きさは、 187\n",
      "https://suumo.jp/jj/chintai/ichiran/FR301FC001/?ar=030&bs=040&ta=13&sc=13104&cb=0.0&ct=9999999&et=9999999&cn=9999999&mb=0&mt=9999999&shkr1=03&shkr2=03&shkr3=03&shkr4=03&fw2=&srch_navi=2\n"
     ]
    }
   ],
   "source": [
    "url = 'https://suumo.jp/jj/chintai/ichiran/FR301FC001/?ar=030&bs=040&ta=13&sc=13104&cb=0.0&ct=9999999&et=9999999&cn=9999999&mb=0&mt=9999999&shkr1=03&shkr2=03&shkr3=03&shkr4=03&fw2=&srch_navi={}'\n",
    "\n",
    "d_list = []\n",
    "\n",
    "#1~3をループ\n",
    "for i in range(1,3):\n",
    "  print(\"d_listの大きさは、\",len(d_list))\n",
    "  \n",
    "  #アクセスするためのURLをtarget_urlへ入れる\n",
    "  target_url = url.format(i)\n",
    "  \n",
    "  print(target_url)\n",
    "  \n",
    "  #URLにアクセスした結果を変数rに入れる\n",
    "  r = requests.get(target_url)\n",
    "  \n",
    "  sleep(1)\n",
    "  \n",
    "  # BeautifulSoupでHTMLを解析\n",
    "  soup = BeautifulSoup(r.text)\n",
    "  \n",
    "  #cassetteitemクラスをもったdivタグを全て取得して、変数contentsに格納\n",
    "  contents = soup.find_all('div',class_=\"cassetteitem\")\n",
    "  \n",
    "  #各物件情報をfor ループで取得する\n",
    "  for content in contents:\n",
    "    \n",
    "    #物件・建物情報を変数detailに格納する\n",
    "    detail = content.find('div',class_=\"cassetteitem-detail\")\n",
    "    \n",
    "    #各部屋の情報を変数tableに格納する\n",
    "    table = content.find('table',class_=\"cassetteitem_other\")\n",
    "    \n",
    "    #変数titleに物件名を格納する\n",
    "    title = detail.find('div',class_='cassetteitem_content-title').text\n",
    "    \n",
    "    #変数addressに住所を格納する\n",
    "    address = detail.find('li',class_='cassetteitem_detail-col1').text\n",
    "    \n",
    "    #変数accessにアクセス情報を格納する\n",
    "    access = detail.find('li',class_='cassetteitem_detail-col2').text\n",
    "    \n",
    "    #変数ageに築年数を格納する\n",
    "    age = detail.find('li',class_='cassetteitem_detail-col3').text\n",
    "    \n",
    "    #変数tableから全てのtrタグを取得して、変数tr_tagsに格納\n",
    "    tr_tags = table.find_all('tr',class_='js-cassette_link')\n",
    "    \n",
    "    #各部屋情報をforループで取得する\n",
    "    for tr_tag in tr_tags:\n",
    "      \n",
    "      #変数floorsに階数を格納する\n",
    "      floor,price,first_fee,capa = tr_tag.find_all('td')[2:6]\n",
    "      \n",
    "      #さらに細かい情報を取得する\n",
    "      #賃料と管理費を格納\n",
    "      fee,management_fee = price.find_all('li')\n",
    "      \n",
    "      #敷金、礼金を格納\n",
    "      deposit,gratuity = first_fee.find_all('li')\n",
    "      \n",
    "      #間取りと面積を格納\n",
    "      madori,menseki = capa.find_all('li')\n",
    "      \n",
    "      #辞書でこれまでに取得したデータを格納\n",
    "      d = {\n",
    "        'title':title,\n",
    "        'address':address,\n",
    "        'age':age,\n",
    "        'floor':floor.text,\n",
    "        'fee':fee.text,\n",
    "        'management_fee':management_fee.text,\n",
    "        'deposit':deposit.text,\n",
    "        'gratuity':gratuity.text,\n",
    "        'madori':madori.text,\n",
    "        'menseki':menseki.text\n",
    "      }\n",
    "      \n",
    "      #取得した辞書をd_listに格納する\n",
    "      d_list.append(d)"
   ]
  },
  {
   "cell_type": "code",
   "execution_count": 4,
   "metadata": {},
   "outputs": [
    {
     "data": {
      "text/plain": [
       "[{'title': 'TomihisaCrossComfort-富久クロスコンフォートタワー',\n",
       "  'address': '東京都新宿区富久町',\n",
       "  'age': '\\n築8年\\n地下2地上55階建\\n',\n",
       "  'floor': '\\r\\n\\t\\t\\t\\t\\t\\t\\t\\t\\t\\t\\t4階',\n",
       "  'fee': '23万円',\n",
       "  'management_fee': '10000円',\n",
       "  'deposit': '46万円',\n",
       "  'gratuity': '23万円',\n",
       "  'madori': '1LDK',\n",
       "  'menseki': '47.06m2'},\n",
       " {'title': 'TomihisaCrossComfort-富久クロスコンフォートタワー',\n",
       "  'address': '東京都新宿区富久町',\n",
       "  'age': '\\n築8年\\n地下2地上55階建\\n',\n",
       "  'floor': '\\r\\n\\t\\t\\t\\t\\t\\t\\t\\t\\t\\t\\t2階',\n",
       "  'fee': '22.5万円',\n",
       "  'management_fee': '15000円',\n",
       "  'deposit': '22.5万円',\n",
       "  'gratuity': '22.5万円',\n",
       "  'madori': '1SLDK',\n",
       "  'menseki': '45.7m2'}]"
      ]
     },
     "execution_count": 4,
     "metadata": {},
     "output_type": "execute_result"
    }
   ],
   "source": [
    "#d_listの2番目まで中身を確認\n",
    "d_list[:2]"
   ]
  },
  {
   "cell_type": "code",
   "execution_count": 12,
   "metadata": {},
   "outputs": [],
   "source": [
    "import re"
   ]
  },
  {
   "cell_type": "code",
   "execution_count": 6,
   "metadata": {},
   "outputs": [],
   "source": [
    "#変数d_listを使って、データフレームを作成する\n",
    "df = pd.DataFrame(d_list)"
   ]
  },
  {
   "cell_type": "code",
   "execution_count": 7,
   "metadata": {},
   "outputs": [
    {
     "data": {
      "text/html": [
       "<div>\n",
       "<style scoped>\n",
       "    .dataframe tbody tr th:only-of-type {\n",
       "        vertical-align: middle;\n",
       "    }\n",
       "\n",
       "    .dataframe tbody tr th {\n",
       "        vertical-align: top;\n",
       "    }\n",
       "\n",
       "    .dataframe thead th {\n",
       "        text-align: right;\n",
       "    }\n",
       "</style>\n",
       "<table border=\"1\" class=\"dataframe\">\n",
       "  <thead>\n",
       "    <tr style=\"text-align: right;\">\n",
       "      <th></th>\n",
       "      <th>title</th>\n",
       "      <th>address</th>\n",
       "      <th>age</th>\n",
       "      <th>floor</th>\n",
       "      <th>fee</th>\n",
       "      <th>management_fee</th>\n",
       "      <th>deposit</th>\n",
       "      <th>gratuity</th>\n",
       "      <th>madori</th>\n",
       "      <th>menseki</th>\n",
       "    </tr>\n",
       "  </thead>\n",
       "  <tbody>\n",
       "    <tr>\n",
       "      <th>0</th>\n",
       "      <td>TomihisaCrossComfort-富久クロスコンフォートタワー</td>\n",
       "      <td>東京都新宿区富久町</td>\n",
       "      <td>\\n築8年\\n地下2地上55階建\\n</td>\n",
       "      <td>\\r\\n\\t\\t\\t\\t\\t\\t\\t\\t\\t\\t\\t4階</td>\n",
       "      <td>23万円</td>\n",
       "      <td>10000円</td>\n",
       "      <td>46万円</td>\n",
       "      <td>23万円</td>\n",
       "      <td>1LDK</td>\n",
       "      <td>47.06m2</td>\n",
       "    </tr>\n",
       "    <tr>\n",
       "      <th>1</th>\n",
       "      <td>TomihisaCrossComfort-富久クロスコンフォートタワー</td>\n",
       "      <td>東京都新宿区富久町</td>\n",
       "      <td>\\n築8年\\n地下2地上55階建\\n</td>\n",
       "      <td>\\r\\n\\t\\t\\t\\t\\t\\t\\t\\t\\t\\t\\t2階</td>\n",
       "      <td>22.5万円</td>\n",
       "      <td>15000円</td>\n",
       "      <td>22.5万円</td>\n",
       "      <td>22.5万円</td>\n",
       "      <td>1SLDK</td>\n",
       "      <td>45.7m2</td>\n",
       "    </tr>\n",
       "    <tr>\n",
       "      <th>2</th>\n",
       "      <td>TomihisaCrossComfort-富久クロスコンフォートタワー</td>\n",
       "      <td>東京都新宿区富久町</td>\n",
       "      <td>\\n築8年\\n地下2地上55階建\\n</td>\n",
       "      <td>\\r\\n\\t\\t\\t\\t\\t\\t\\t\\t\\t\\t\\t40階</td>\n",
       "      <td>23万円</td>\n",
       "      <td>10000円</td>\n",
       "      <td>46万円</td>\n",
       "      <td>46万円</td>\n",
       "      <td>1LDK</td>\n",
       "      <td>36.22m2</td>\n",
       "    </tr>\n",
       "    <tr>\n",
       "      <th>3</th>\n",
       "      <td>TomihisaCrossComfort-富久クロスコンフォートタワー</td>\n",
       "      <td>東京都新宿区富久町</td>\n",
       "      <td>\\n築8年\\n地下2地上55階建\\n</td>\n",
       "      <td>\\r\\n\\t\\t\\t\\t\\t\\t\\t\\t\\t\\t\\t2階</td>\n",
       "      <td>22.9万円</td>\n",
       "      <td>15000円</td>\n",
       "      <td>22.9万円</td>\n",
       "      <td>22.9万円</td>\n",
       "      <td>1LDK</td>\n",
       "      <td>45.7m2</td>\n",
       "    </tr>\n",
       "    <tr>\n",
       "      <th>4</th>\n",
       "      <td>TomihisaCrossComfort-富久クロスコンフォートタワー</td>\n",
       "      <td>東京都新宿区富久町</td>\n",
       "      <td>\\n築8年\\n地下2地上55階建\\n</td>\n",
       "      <td>\\r\\n\\t\\t\\t\\t\\t\\t\\t\\t\\t\\t\\t10階</td>\n",
       "      <td>34万円</td>\n",
       "      <td>-</td>\n",
       "      <td>34万円</td>\n",
       "      <td>34万円</td>\n",
       "      <td>2LDK</td>\n",
       "      <td>60.87m2</td>\n",
       "    </tr>\n",
       "  </tbody>\n",
       "</table>\n",
       "</div>"
      ],
      "text/plain": [
       "                                 title    address                 age  \\\n",
       "0  TomihisaCrossComfort-富久クロスコンフォートタワー  東京都新宿区富久町  \\n築8年\\n地下2地上55階建\\n   \n",
       "1  TomihisaCrossComfort-富久クロスコンフォートタワー  東京都新宿区富久町  \\n築8年\\n地下2地上55階建\\n   \n",
       "2  TomihisaCrossComfort-富久クロスコンフォートタワー  東京都新宿区富久町  \\n築8年\\n地下2地上55階建\\n   \n",
       "3  TomihisaCrossComfort-富久クロスコンフォートタワー  東京都新宿区富久町  \\n築8年\\n地下2地上55階建\\n   \n",
       "4  TomihisaCrossComfort-富久クロスコンフォートタワー  東京都新宿区富久町  \\n築8年\\n地下2地上55階建\\n   \n",
       "\n",
       "                           floor     fee management_fee deposit gratuity  \\\n",
       "0   \\r\\n\\t\\t\\t\\t\\t\\t\\t\\t\\t\\t\\t4階    23万円         10000円    46万円     23万円   \n",
       "1   \\r\\n\\t\\t\\t\\t\\t\\t\\t\\t\\t\\t\\t2階  22.5万円         15000円  22.5万円   22.5万円   \n",
       "2  \\r\\n\\t\\t\\t\\t\\t\\t\\t\\t\\t\\t\\t40階    23万円         10000円    46万円     46万円   \n",
       "3   \\r\\n\\t\\t\\t\\t\\t\\t\\t\\t\\t\\t\\t2階  22.9万円         15000円  22.9万円   22.9万円   \n",
       "4  \\r\\n\\t\\t\\t\\t\\t\\t\\t\\t\\t\\t\\t10階    34万円              -    34万円     34万円   \n",
       "\n",
       "  madori  menseki  \n",
       "0   1LDK  47.06m2  \n",
       "1  1SLDK   45.7m2  \n",
       "2   1LDK  36.22m2  \n",
       "3   1LDK   45.7m2  \n",
       "4   2LDK  60.87m2  "
      ]
     },
     "execution_count": 7,
     "metadata": {},
     "output_type": "execute_result"
    }
   ],
   "source": [
    "#データフレームの先頭５行を確認\n",
    "df.head()"
   ]
  },
  {
   "cell_type": "code",
   "execution_count": 8,
   "metadata": {},
   "outputs": [
    {
     "data": {
      "text/plain": [
       "(374, 10)"
      ]
     },
     "execution_count": 8,
     "metadata": {},
     "output_type": "execute_result"
    }
   ],
   "source": [
    "#dfの大きさを確認\n",
    "df.shape"
   ]
  },
  {
   "cell_type": "code",
   "execution_count": 10,
   "metadata": {},
   "outputs": [
    {
     "data": {
      "text/plain": [
       "30"
      ]
     },
     "execution_count": 10,
     "metadata": {},
     "output_type": "execute_result"
    }
   ],
   "source": [
    "#物件名の重複を削除して、その大きさを確認\n",
    "len(df.title.unique())"
   ]
  },
  {
   "cell_type": "code",
   "execution_count": 13,
   "metadata": {},
   "outputs": [
    {
     "data": {
      "text/html": [
       "<div>\n",
       "<style scoped>\n",
       "    .dataframe tbody tr th:only-of-type {\n",
       "        vertical-align: middle;\n",
       "    }\n",
       "\n",
       "    .dataframe tbody tr th {\n",
       "        vertical-align: top;\n",
       "    }\n",
       "\n",
       "    .dataframe thead th {\n",
       "        text-align: right;\n",
       "    }\n",
       "</style>\n",
       "<table border=\"1\" class=\"dataframe\">\n",
       "  <thead>\n",
       "    <tr style=\"text-align: right;\">\n",
       "      <th></th>\n",
       "      <th>title</th>\n",
       "      <th>address</th>\n",
       "      <th>age</th>\n",
       "      <th>floor</th>\n",
       "      <th>fee</th>\n",
       "      <th>management_fee</th>\n",
       "      <th>deposit</th>\n",
       "      <th>gratuity</th>\n",
       "      <th>madori</th>\n",
       "      <th>menseki</th>\n",
       "    </tr>\n",
       "  </thead>\n",
       "  <tbody>\n",
       "    <tr>\n",
       "      <th>0</th>\n",
       "      <td>TomihisaCrossComfort-富久クロスコンフォートタワー</td>\n",
       "      <td>東京都新宿区富久町</td>\n",
       "      <td>築8年 地下2地上55階建</td>\n",
       "      <td>\\r \\t\\t\\t\\t\\t\\t\\t\\t\\t\\t\\t4階</td>\n",
       "      <td>23万円</td>\n",
       "      <td>10000円</td>\n",
       "      <td>46万円</td>\n",
       "      <td>23万円</td>\n",
       "      <td>1LDK</td>\n",
       "      <td>47.06m2</td>\n",
       "    </tr>\n",
       "    <tr>\n",
       "      <th>1</th>\n",
       "      <td>TomihisaCrossComfort-富久クロスコンフォートタワー</td>\n",
       "      <td>東京都新宿区富久町</td>\n",
       "      <td>築8年 地下2地上55階建</td>\n",
       "      <td>\\r \\t\\t\\t\\t\\t\\t\\t\\t\\t\\t\\t2階</td>\n",
       "      <td>22.5万円</td>\n",
       "      <td>15000円</td>\n",
       "      <td>22.5万円</td>\n",
       "      <td>22.5万円</td>\n",
       "      <td>1SLDK</td>\n",
       "      <td>45.7m2</td>\n",
       "    </tr>\n",
       "    <tr>\n",
       "      <th>2</th>\n",
       "      <td>TomihisaCrossComfort-富久クロスコンフォートタワー</td>\n",
       "      <td>東京都新宿区富久町</td>\n",
       "      <td>築8年 地下2地上55階建</td>\n",
       "      <td>\\r \\t\\t\\t\\t\\t\\t\\t\\t\\t\\t\\t40階</td>\n",
       "      <td>23万円</td>\n",
       "      <td>10000円</td>\n",
       "      <td>46万円</td>\n",
       "      <td>46万円</td>\n",
       "      <td>1LDK</td>\n",
       "      <td>36.22m2</td>\n",
       "    </tr>\n",
       "    <tr>\n",
       "      <th>3</th>\n",
       "      <td>TomihisaCrossComfort-富久クロスコンフォートタワー</td>\n",
       "      <td>東京都新宿区富久町</td>\n",
       "      <td>築8年 地下2地上55階建</td>\n",
       "      <td>\\r \\t\\t\\t\\t\\t\\t\\t\\t\\t\\t\\t2階</td>\n",
       "      <td>22.9万円</td>\n",
       "      <td>15000円</td>\n",
       "      <td>22.9万円</td>\n",
       "      <td>22.9万円</td>\n",
       "      <td>1LDK</td>\n",
       "      <td>45.7m2</td>\n",
       "    </tr>\n",
       "    <tr>\n",
       "      <th>4</th>\n",
       "      <td>TomihisaCrossComfort-富久クロスコンフォートタワー</td>\n",
       "      <td>東京都新宿区富久町</td>\n",
       "      <td>築8年 地下2地上55階建</td>\n",
       "      <td>\\r \\t\\t\\t\\t\\t\\t\\t\\t\\t\\t\\t10階</td>\n",
       "      <td>34万円</td>\n",
       "      <td>-</td>\n",
       "      <td>34万円</td>\n",
       "      <td>34万円</td>\n",
       "      <td>2LDK</td>\n",
       "      <td>60.87m2</td>\n",
       "    </tr>\n",
       "  </tbody>\n",
       "</table>\n",
       "</div>"
      ],
      "text/plain": [
       "                                 title    address              age  \\\n",
       "0  TomihisaCrossComfort-富久クロスコンフォートタワー  東京都新宿区富久町   築8年 地下2地上55階建    \n",
       "1  TomihisaCrossComfort-富久クロスコンフォートタワー  東京都新宿区富久町   築8年 地下2地上55階建    \n",
       "2  TomihisaCrossComfort-富久クロスコンフォートタワー  東京都新宿区富久町   築8年 地下2地上55階建    \n",
       "3  TomihisaCrossComfort-富久クロスコンフォートタワー  東京都新宿区富久町   築8年 地下2地上55階建    \n",
       "4  TomihisaCrossComfort-富久クロスコンフォートタワー  東京都新宿区富久町   築8年 地下2地上55階建    \n",
       "\n",
       "                          floor     fee management_fee deposit gratuity  \\\n",
       "0   \\r \\t\\t\\t\\t\\t\\t\\t\\t\\t\\t\\t4階    23万円         10000円    46万円     23万円   \n",
       "1   \\r \\t\\t\\t\\t\\t\\t\\t\\t\\t\\t\\t2階  22.5万円         15000円  22.5万円   22.5万円   \n",
       "2  \\r \\t\\t\\t\\t\\t\\t\\t\\t\\t\\t\\t40階    23万円         10000円    46万円     46万円   \n",
       "3   \\r \\t\\t\\t\\t\\t\\t\\t\\t\\t\\t\\t2階  22.9万円         15000円  22.9万円   22.9万円   \n",
       "4  \\r \\t\\t\\t\\t\\t\\t\\t\\t\\t\\t\\t10階    34万円              -    34万円     34万円   \n",
       "\n",
       "  madori  menseki  \n",
       "0   1LDK  47.06m2  \n",
       "1  1SLDK   45.7m2  \n",
       "2   1LDK  36.22m2  \n",
       "3   1LDK   45.7m2  \n",
       "4   2LDK  60.87m2  "
      ]
     },
     "execution_count": 13,
     "metadata": {},
     "output_type": "execute_result"
    }
   ],
   "source": [
    "df2 = df.applymap(lambda x: re.sub('\\n', ' ', x))\n",
    "df2.head()"
   ]
  },
  {
   "cell_type": "code",
   "execution_count": 15,
   "metadata": {},
   "outputs": [],
   "source": [
    "df3 = df2.applymap(lambda x: re.sub('\\r', ' ', x))\n",
    "df4 = df3.applymap(lambda x: re.sub('\\t', ' ', x))"
   ]
  },
  {
   "cell_type": "code",
   "execution_count": 16,
   "metadata": {},
   "outputs": [],
   "source": [
    "#to_csvでデータフレームをCSV出力\n",
    "df4.to_csv('test2.csv',index=None,encoding='utf-8-sig')"
   ]
  },
  {
   "cell_type": "code",
   "execution_count": null,
   "metadata": {},
   "outputs": [],
   "source": []
  }
 ],
 "metadata": {
  "kernelspec": {
   "display_name": "Python 3.9.12 ('base')",
   "language": "python",
   "name": "python3"
  },
  "language_info": {
   "codemirror_mode": {
    "name": "ipython",
    "version": 3
   },
   "file_extension": ".py",
   "mimetype": "text/x-python",
   "name": "python",
   "nbconvert_exporter": "python",
   "pygments_lexer": "ipython3",
   "version": "3.9.12"
  },
  "orig_nbformat": 4,
  "vscode": {
   "interpreter": {
    "hash": "52165990c2c924c63fee78ad102ad7e885cc5aab011cad54d430bd35c7d218ee"
   }
  }
 },
 "nbformat": 4,
 "nbformat_minor": 2
}
