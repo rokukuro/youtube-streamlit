{
 "cells": [
  {
   "cell_type": "code",
   "execution_count": 2,
   "metadata": {},
   "outputs": [],
   "source": [
    "import requests\n",
    "from bs4 import BeautifulSoup"
   ]
  },
  {
   "cell_type": "code",
   "execution_count": 3,
   "metadata": {},
   "outputs": [
    {
     "name": "stdout",
     "output_type": "stream",
     "text": [
      "https://suumo.jp/jj/chintai/ichiran/FR301FC001/?ar=050&bs=040&ta=23&sc=23202&cb=0.0&ct=9999999&et=9999999&cn=9999999&mb=0&mt=9999999&shkr1=03&shkr2=03&shkr3=03&shkr4=03&fw2=&srch_navi=1\n"
     ]
    }
   ],
   "source": [
    "# 変数urlにスーモ公式ページURLを入れる\n",
    "url = 'https://suumo.jp/jj/chintai/ichiran/FR301FC001/?ar=050&bs=040&ta=23&sc=23202&cb=0.0&ct=9999999&et=9999999&cn=9999999&mb=0&mt=9999999&shkr1=03&shkr2=03&shkr3=03&shkr4=03&fw2=&srch_navi={}'\n",
    "\n",
    "#アクセスするためのURLをtarget_urlへ入れる\n",
    "target_url = url.format(1)\n",
    "\n",
    "print(target_url)"
   ]
  },
  {
   "cell_type": "code",
   "execution_count": 4,
   "metadata": {},
   "outputs": [],
   "source": [
    "#URLにアクセスした結果を変数rに入れる\n",
    "r = requests.get(target_url)\n",
    "\n",
    "# BeautifulSoupでHTMLを解析\n",
    "soup = BeautifulSoup(r.text)"
   ]
  },
  {
   "cell_type": "code",
   "execution_count": 5,
   "metadata": {},
   "outputs": [],
   "source": [
    "#cassetteitemクラスをもったdivタグを全て取得して、変数contentsに格納\n",
    "contents = soup.find_all('div',class_=\"cassetteitem\")"
   ]
  },
  {
   "cell_type": "code",
   "execution_count": 6,
   "metadata": {},
   "outputs": [
    {
     "data": {
      "text/plain": [
       "30"
      ]
     },
     "execution_count": 6,
     "metadata": {},
     "output_type": "execute_result"
    }
   ],
   "source": [
    "#変数contentsの要素数を確認\n",
    "len(contents)"
   ]
  },
  {
   "cell_type": "code",
   "execution_count": 7,
   "metadata": {},
   "outputs": [],
   "source": [
    "first_content = contents[0]"
   ]
  },
  {
   "cell_type": "code",
   "execution_count": 8,
   "metadata": {},
   "outputs": [],
   "source": [
    "#物件・建物情報を変数detailに格納する\n",
    "detail = first_content.find('div',class_=\"cassetteitem-detail\")\n",
    "\n",
    "#各部屋の情報を変数tableに格納する\n",
    "table = first_content.find('table',class_=\"cassetteitem_other\")"
   ]
  },
  {
   "cell_type": "code",
   "execution_count": 9,
   "metadata": {},
   "outputs": [],
   "source": [
    "#変数titleに物件名を格納する\n",
    "title = detail.find('div',class_='cassetteitem_content-title').text\n",
    "\n",
    "#変数addressに住所を格納する\n",
    "address = detail.find('li',class_='cassetteitem_detail-col1').text\n",
    "\n",
    "#変数accessにアクセス情報を格納する\n",
    "access = detail.find('li',class_='cassetteitem_detail-col2').text\n",
    "\n",
    "#変数ageに築年数を格納する\n",
    "age = detail.find('li',class_='cassetteitem_detail-col3').text\n"
   ]
  },
  {
   "cell_type": "code",
   "execution_count": 10,
   "metadata": {},
   "outputs": [
    {
     "data": {
      "text/plain": [
       "('グリーン・アップル',\n",
       " '愛知県岡崎市中島東町３',\n",
       " '\\nＪＲ東海道本線/相見駅 歩61分\\nＪＲ東海道本線/岡崎駅 歩67分\\n名鉄西尾線/桜井駅 歩73分\\n',\n",
       " '\\n築15年\\n2階建\\n')"
      ]
     },
     "execution_count": 10,
     "metadata": {},
     "output_type": "execute_result"
    }
   ],
   "source": [
    "#各変数の取得結果を確認\n",
    "title,address,access,age"
   ]
  },
  {
   "cell_type": "code",
   "execution_count": 11,
   "metadata": {},
   "outputs": [
    {
     "name": "stdout",
     "output_type": "stream",
     "text": [
      "<tr class=\"js-cassette_link\">\n",
      "<td class=\"cassetteitem_other-checkbox cassetteitem_other-checkbox--newarrival js-cassetteitem_checkbox\">\n",
      "<input class=\"js-ikkatsuCB js-single_checkbox\" id=\"bukken_0\" name=\"bc\" type=\"checkbox\" value=\"100295632283\"/><label for=\"bc\"> </label>\n",
      "</td>\n",
      "<td>\n",
      "<div class=\"casssetteitem_other-thumbnail js-view_gallery_images js-noContextMenu\" data-imgs=\"https://img01.suumo.com/front/gazo/fr/bukken/283/100295632283/100295632283_go.jpg,https://img01.suumo.com/front/gazo/fr/bukken/283/100295632283/100295632283_co.jpg,https://img01.suumo.com/front/gazo/fr/bukken/283/100295632283/100295632283_ro.jpg,https://img01.suumo.com/front/gazo/fr/bukken/283/100295632283/100295632283_1o.jpg,https://img01.suumo.com/front/gazo/fr/bukken/283/100295632283/100295632283_2o.jpg,https://img01.suumo.com/front/gazo/fr/bukken/283/100295632283/100295632283_4o.jpg,https://img01.suumo.com/front/gazo/fr/bukken/283/100295632283/100295632283_6o.jpg,https://img01.suumo.com/front/gazo/fr/bukken/283/100295632283/100295632283_7o.jpg,https://img01.suumo.com/front/gazo/fr/bukken/283/100295632283/100295632283_5o.jpg,https://img01.suumo.com/front/gazo/fr/bukken/283/100295632283/100295632283_11o.jpg,https://img01.suumo.com/front/gazo/fr/bukken/283/100295632283/100295632283_10o.jpg,https://img01.suumo.com/front/gazo/fr/bukken/283/100295632283/100295632283_9o.jpg,https://img01.suumo.com/front/gazo/fr/bukken/283/100295632283/100295632283_3o.jpg,https://img01.suumo.com/front/gazo/fr/bukken/283/100295632283/100295632283_s6o.jpg,https://img01.suumo.com/front/gazo/fr/bukken/283/100295632283/100295632283_s5o.jpg,https://img01.suumo.com/front/gazo/fr/bukken/283/100295632283/100295632283_s3o.jpg,https://img01.suumo.com/front/gazo/fr/bukken/283/100295632283/100295632283_s1o.jpg,https://img01.suumo.com/front/gazo/fr/bukken/283/100295632283/100295632283_s2o.jpg,https://img01.suumo.com/front/gazo/fr/bukken/283/100295632283/100295632283_s4o.jpg,https://img01.suumo.com/front/gazo/fr/bukken/283/100295632283/100295632283_8o.jpg\">\n",
      "<img alt=\"\" class=\"casssetteitem_other-thumbnail-img casssetteitem_other-thumbnail-img--hasimages js-view_gallery-modal js-scrollLazy\" rel=\"https://img01.suumo.com/front/gazo/fr/bukken/283/100295632283/100295632283_co.jpg\" src=\"data:image/gif;base64,R0lGODlhAQABAIAAAAAAAAAAACH5BAEAAAAALAAAAAABAAEAAAICRAEAOw%3D%3D\"/>\n",
      "<span class=\"cassetteitem_other-thumbnail-expansion js-view_gallery-modal\"></span>\n",
      "</div>\n",
      "</td>\n",
      "<td>\n",
      "\t\t\t\t\t\t\t\t\t\t\t2階</td>\n",
      "<td>\n",
      "<ul>\n",
      "<li><span class=\"cassetteitem_price cassetteitem_price--rent\"><span class=\"cassetteitem_other-emphasis ui-text--bold\">6.2万円</span></span></li>\n",
      "<li><span class=\"cassetteitem_price cassetteitem_price--administration\">2000円</span></li>\n",
      "</ul>\n",
      "</td>\n",
      "<td>\n",
      "<ul>\n",
      "<li><span class=\"cassetteitem_price cassetteitem_price--deposit\">-</span></li>\n",
      "<li><span class=\"cassetteitem_price cassetteitem_price--gratuity\">6.2万円</span></li>\n",
      "</ul>\n",
      "</td>\n",
      "<td>\n",
      "<ul>\n",
      "<li><span class=\"cassetteitem_madori\">2LDK</span></li>\n",
      "<li><span class=\"cassetteitem_menseki\">61.06m<sup>2</sup></span></li>\n",
      "</ul>\n",
      "</td>\n",
      "<td>\n",
      "<ul class=\"cassetteitem-taglist\">\n",
      "<li><span class=\"cassetteitem-tag\">動画</span></li>\n",
      "<li><span class=\"cassetteitem-tag\">パノラマ</span></li>\n",
      "</ul>\n",
      "</td>\n",
      "<td class=\"js-property\">\n",
      "<input class=\"js-clipkey\" type=\"hidden\" value=\"100295632283\"/>\n",
      "<a class=\"ui-btn ui-favorite cassette_favorite cassette_favorite--sm js-addMyList js-linkSuppresser\" href=\"javascript:void(0);\">\n",
      "<span class=\"ui-favorite-icon cassette_favorite-icon\"><span class=\"fr_list-eachicon fr_list-eachicon--favorite\"></span></span>\n",
      "<span class=\"ui-favorite-text\">追加</span>\n",
      "<span class=\"ui-favorite-icon_add cassette_favorite-icon_add\"><span class=\"fr_list-eachicon fr_list-eachicon--favorite_add\"></span></span>\n",
      "<span class=\"ui-favorite-text_add\">追加</span>\n",
      "</a>\n",
      "</td>\n",
      "<td class=\"ui-text--midium ui-text--bold\">\n",
      "<a class=\"js-cassette_link_href cassetteitem_other-linktext\" href=\"/chintai/jnc_000076535653/?bc=100295632283\" onclick=\"sendBeaconSiteCatalystClick(event,this,'click_casset_bkn_link',false);\" target=\"_blank\">詳細を見る</a></td>\n",
      "</tr>\n"
     ]
    }
   ],
   "source": [
    "#変数tableから全てのtrタグを取得して、変数tr_tagsに格納\n",
    "tr_tags = table.find_all('tr',class_='js-cassette_link')\n",
    "\n",
    "tr_tag = tr_tags[0]\n",
    "print(tr_tag)"
   ]
  },
  {
   "cell_type": "code",
   "execution_count": 12,
   "metadata": {},
   "outputs": [],
   "source": [
    "#変数floorsに階数を格納する\n",
    "floor,price,first_fee,capa = tr_tag.find_all('td')[2:6]"
   ]
  },
  {
   "cell_type": "code",
   "execution_count": 13,
   "metadata": {},
   "outputs": [
    {
     "data": {
      "text/plain": [
       "(<td>\n",
       " \t\t\t\t\t\t\t\t\t\t\t2階</td>,\n",
       " <td>\n",
       " <ul>\n",
       " <li><span class=\"cassetteitem_price cassetteitem_price--rent\"><span class=\"cassetteitem_other-emphasis ui-text--bold\">6.2万円</span></span></li>\n",
       " <li><span class=\"cassetteitem_price cassetteitem_price--administration\">2000円</span></li>\n",
       " </ul>\n",
       " </td>,\n",
       " <td>\n",
       " <ul>\n",
       " <li><span class=\"cassetteitem_price cassetteitem_price--deposit\">-</span></li>\n",
       " <li><span class=\"cassetteitem_price cassetteitem_price--gratuity\">6.2万円</span></li>\n",
       " </ul>\n",
       " </td>,\n",
       " <td>\n",
       " <ul>\n",
       " <li><span class=\"cassetteitem_madori\">2LDK</span></li>\n",
       " <li><span class=\"cassetteitem_menseki\">61.06m<sup>2</sup></span></li>\n",
       " </ul>\n",
       " </td>)"
      ]
     },
     "execution_count": 13,
     "metadata": {},
     "output_type": "execute_result"
    }
   ],
   "source": [
    "floor,price,first_fee,capa"
   ]
  },
  {
   "cell_type": "code",
   "execution_count": 20,
   "metadata": {},
   "outputs": [],
   "source": [
    "#賃料と管理費を格納\n",
    "fee,management_fee = price.find_all('li')\n",
    "\n",
    "#敷金、礼金を格納\n",
    "deposit,gratuity = first_fee.find_all('li')\n",
    "\n",
    "#間取りと面積を格納\n",
    "madori,menseki = capa.find_all('li')"
   ]
  },
  {
   "cell_type": "code",
   "execution_count": 21,
   "metadata": {},
   "outputs": [
    {
     "name": "stdout",
     "output_type": "stream",
     "text": [
      "<li><span class=\"cassetteitem_price cassetteitem_price--rent\"><span class=\"cassetteitem_other-emphasis ui-text--bold\">6.2万円</span></span></li>\n",
      "<li><span class=\"cassetteitem_price cassetteitem_price--administration\">2000円</span></li>\n"
     ]
    }
   ],
   "source": [
    "print(fee)\n",
    "print(management_fee)"
   ]
  },
  {
   "cell_type": "code",
   "execution_count": 22,
   "metadata": {},
   "outputs": [
    {
     "name": "stdout",
     "output_type": "stream",
     "text": [
      "<li><span class=\"cassetteitem_price cassetteitem_price--deposit\">-</span></li>\n",
      "<li><span class=\"cassetteitem_price cassetteitem_price--gratuity\">6.2万円</span></li>\n"
     ]
    }
   ],
   "source": [
    "print(deposit)\n",
    "print(gratuity)"
   ]
  },
  {
   "cell_type": "code",
   "execution_count": 23,
   "metadata": {},
   "outputs": [
    {
     "name": "stdout",
     "output_type": "stream",
     "text": [
      "<li><span class=\"cassetteitem_madori\">2LDK</span></li>\n",
      "<li><span class=\"cassetteitem_menseki\">61.06m<sup>2</sup></span></li>\n"
     ]
    }
   ],
   "source": [
    "print(madori)\n",
    "print(menseki)"
   ]
  },
  {
   "cell_type": "code",
   "execution_count": 24,
   "metadata": {},
   "outputs": [],
   "source": [
    "#辞書でこれまでに取得したデータを格納\n",
    "d = {\n",
    "    'title':title,\n",
    "    'address':address,\n",
    "    'age':age,\n",
    "    'floor':floor.text,\n",
    "    'fee':fee.text,\n",
    "    'management_fee':management_fee.text,\n",
    "    'deposit':deposit.text,\n",
    "    'gratuity':gratuity.text,\n",
    "    'madori':madori.text,\n",
    "    'menseki':menseki.text\n",
    "}"
   ]
  },
  {
   "cell_type": "code",
   "execution_count": 25,
   "metadata": {},
   "outputs": [
    {
     "data": {
      "text/plain": [
       "{'title': 'グリーン・アップル',\n",
       " 'address': '愛知県岡崎市中島東町３',\n",
       " 'age': '\\n築15年\\n2階建\\n',\n",
       " 'floor': '\\r\\n\\t\\t\\t\\t\\t\\t\\t\\t\\t\\t\\t2階',\n",
       " 'fee': '6.2万円',\n",
       " 'management_fee': '2000円',\n",
       " 'deposit': '-',\n",
       " 'gratuity': '6.2万円',\n",
       " 'madori': '2LDK',\n",
       " 'menseki': '61.06m2'}"
      ]
     },
     "execution_count": 25,
     "metadata": {},
     "output_type": "execute_result"
    }
   ],
   "source": [
    "#辞書の中身確認\n",
    "d"
   ]
  },
  {
   "cell_type": "code",
   "execution_count": 27,
   "metadata": {},
   "outputs": [],
   "source": [
    "#変数 d_listに空のリストを作成する\n",
    "d_list = []\n",
    "\n",
    "#全ての物件情報30件を取得する\n",
    "contents = soup.find_all('div',class_=\"cassetteitem\")\n",
    "\n",
    "#各物件情報をfor ループで取得する\n",
    "for content in contents:\n",
    "  \n",
    "  #物件・建物情報を変数detailに格納する\n",
    "  detail = content.find('div',class_=\"cassetteitem-detail\")\n",
    "  \n",
    "  #各部屋の情報を変数tableに格納する\n",
    "  table = content.find('table',class_=\"cassetteitem_other\")\n",
    "  \n",
    "  #変数titleに物件名を格納する\n",
    "  title = detail.find('div',class_='cassetteitem_content-title').text\n",
    "  \n",
    "  #変数addressに住所を格納する\n",
    "  address = detail.find('li',class_='cassetteitem_detail-col1').text\n",
    "  \n",
    "  #変数accessにアクセス情報を格納する\n",
    "  access = detail.find('li',class_='cassetteitem_detail-col2').text\n",
    "  \n",
    "  #変数ageに築年数を格納する\n",
    "  age = detail.find('li',class_='cassetteitem_detail-col3').text\n",
    "  \n",
    "  #変数tableから全てのtrタグを取得して、変数tr_tagsに格納\n",
    "  tr_tags = table.find_all('tr',class_='js-cassette_link')\n",
    "  \n",
    "  #各部屋情報をforループで取得する\n",
    "  for tr_tag in tr_tags:\n",
    "    \n",
    "    #変数floorsに階数を格納する\n",
    "    floor,price,first_fee,capa = tr_tag.find_all('td')[2:6]\n",
    "    \n",
    "    #さらに細かい情報を取得する\n",
    "    #賃料と管理費を格納\n",
    "    fee,management_fee = price.find_all('li')\n",
    "    \n",
    "    #敷金、礼金を格納\n",
    "    deposit,gratuity = first_fee.find_all('li')\n",
    "    \n",
    "    #間取りと面積を格納\n",
    "    madori,menseki = capa.find_all('li')\n",
    "    \n",
    "    #辞書でこれまでに取得したデータを格納\n",
    "    d = {\n",
    "      'title':title,\n",
    "      'address':address,\n",
    "      'age':age,\n",
    "      'floor':floor.text,\n",
    "      'fee':fee.text,\n",
    "      'management_fee':management_fee.text,\n",
    "      'deposit':deposit.text,\n",
    "      'gratuity':gratuity.text,\n",
    "      'madori':madori.text,\n",
    "      'menseki':menseki.text\n",
    "    }\n",
    "    \n",
    "    #取得した辞書をd_listに格納する\n",
    "    d_list.append(d)"
   ]
  },
  {
   "cell_type": "code",
   "execution_count": 28,
   "metadata": {},
   "outputs": [],
   "source": [
    "from pprint import pprint"
   ]
  },
  {
   "cell_type": "code",
   "execution_count": 29,
   "metadata": {},
   "outputs": [
    {
     "name": "stdout",
     "output_type": "stream",
     "text": [
      "{'address': '愛知県岡崎市中島東町３',\n",
      " 'age': '\\n築15年\\n2階建\\n',\n",
      " 'deposit': '-',\n",
      " 'fee': '6.2万円',\n",
      " 'floor': '\\r\\n\\t\\t\\t\\t\\t\\t\\t\\t\\t\\t\\t2階',\n",
      " 'gratuity': '6.2万円',\n",
      " 'madori': '2LDK',\n",
      " 'management_fee': '2000円',\n",
      " 'menseki': '61.06m2',\n",
      " 'title': 'グリーン・アップル'}\n",
      "\n",
      "{'address': '愛知県岡崎市六名１',\n",
      " 'age': '\\n築14年\\n2階建\\n',\n",
      " 'deposit': '-',\n",
      " 'fee': '4.9万円',\n",
      " 'floor': '\\r\\n\\t\\t\\t\\t\\t\\t\\t\\t\\t\\t\\t1階',\n",
      " 'gratuity': '-',\n",
      " 'madori': '1K',\n",
      " 'management_fee': '3000円',\n",
      " 'menseki': '23.36m2',\n",
      " 'title': 'Ｃｏｍｆｏｒｔ\\u3000Ｐｌａｃｅ'}\n"
     ]
    }
   ],
   "source": [
    "pprint(d_list[0])\n",
    "print()\n",
    "pprint(d_list[1])"
   ]
  },
  {
   "cell_type": "code",
   "execution_count": null,
   "metadata": {},
   "outputs": [],
   "source": []
  }
 ],
 "metadata": {
  "kernelspec": {
   "display_name": "Python 3.9.12 ('base')",
   "language": "python",
   "name": "python3"
  },
  "language_info": {
   "codemirror_mode": {
    "name": "ipython",
    "version": 3
   },
   "file_extension": ".py",
   "mimetype": "text/x-python",
   "name": "python",
   "nbconvert_exporter": "python",
   "pygments_lexer": "ipython3",
   "version": "3.9.12"
  },
  "orig_nbformat": 4,
  "vscode": {
   "interpreter": {
    "hash": "52165990c2c924c63fee78ad102ad7e885cc5aab011cad54d430bd35c7d218ee"
   }
  }
 },
 "nbformat": 4,
 "nbformat_minor": 2
}
