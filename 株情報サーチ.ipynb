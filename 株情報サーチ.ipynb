{
 "cells": [
  {
   "cell_type": "code",
   "execution_count": 1,
   "metadata": {},
   "outputs": [],
   "source": [
    "import webbrowser\n",
    "import requests\n",
    "import urllib.parse\n",
    "import time\n",
    "from bs4 import BeautifulSoup"
   ]
  },
  {
   "cell_type": "code",
   "execution_count": 2,
   "metadata": {},
   "outputs": [
    {
     "name": "stdout",
     "output_type": "stream",
     "text": [
      "優待 ==> Check!!\n",
      "配当 ==> Check!!\n"
     ]
    }
   ],
   "source": [
    "\n",
    "def checkEvent(url, word):\n",
    "  \"\"\" イベントが発生しているか確認する\n",
    "  \"\"\"\n",
    "  res = requests.get(url)\n",
    "  soup = BeautifulSoup(res.text, \"html.parser\")\n",
    "  contact = soup.find(\"div\", class_=\"m-newpresSearchResults\")\n",
    "\n",
    "  l_tagString = []\n",
    "  for tag in contact.find_all(\"th\"):\n",
    "      l_tagString.append(tag.string)\n",
    "\n",
    "  if \"発表日\" in l_tagString:\n",
    "      print(f\"{word} ==> Check!!\")\n",
    "      webbrowser.open(url)\n",
    "  else:\n",
    "      print(f\"{word} ==> Nothing.\")\n",
    "\n",
    "\n",
    "def main():\n",
    "  \"\"\" キーワードと期間を指定する\n",
    "  \"\"\"\n",
    "  # 検索する期間(当日=0, 前日=1, 過去1週間=7, 過去1ヶ月=8, 過去3ヶ月=9, 過去6ヶ月=10, 過去1年=11)\n",
    "  term = \"7\"\n",
    "  l_word = [\"優待\", \"配当\"]\n",
    "\n",
    "  for word in l_word:\n",
    "      kwd = urllib.parse.quote(word)\n",
    "      url = f\"https://www.nikkei.com/markets/kigyo/disclose/?kwd={kwd}&SelDateDiff={term}\"\n",
    "      checkEvent(url, word)\n",
    "      time.sleep(8)\n",
    "\n",
    "\n",
    "if __name__ == \"__main__\":\n",
    "  \"\"\" このスクリプトを直接実行した場合、以下のコードが動作する\n",
    "  \"\"\"\n",
    "  main()"
   ]
  }
 ],
 "metadata": {
  "kernelspec": {
   "display_name": "Python 3.9.13 ('base')",
   "language": "python",
   "name": "python3"
  },
  "language_info": {
   "codemirror_mode": {
    "name": "ipython",
    "version": 3
   },
   "file_extension": ".py",
   "mimetype": "text/x-python",
   "name": "python",
   "nbconvert_exporter": "python",
   "pygments_lexer": "ipython3",
   "version": "3.9.13"
  },
  "orig_nbformat": 4,
  "vscode": {
   "interpreter": {
    "hash": "52165990c2c924c63fee78ad102ad7e885cc5aab011cad54d430bd35c7d218ee"
   }
  }
 },
 "nbformat": 4,
 "nbformat_minor": 2
}
